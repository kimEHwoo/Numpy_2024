{
  "nbformat": 4,
  "nbformat_minor": 0,
  "metadata": {
    "colab": {
      "provenance": [],
      "authorship_tag": "ABX9TyMSdLrF+iFHorxB8Oqbnzxa",
      "include_colab_link": true
    },
    "kernelspec": {
      "name": "python3",
      "display_name": "Python 3"
    },
    "language_info": {
      "name": "python"
    }
  },
  "cells": [
    {
      "cell_type": "markdown",
      "metadata": {
        "id": "view-in-github",
        "colab_type": "text"
      },
      "source": [
        "<a href=\"https://colab.research.google.com/github/kimEHwoo/Numpy_2024/blob/main/numpy.ipynb\" target=\"_parent\"><img src=\"https://colab.research.google.com/assets/colab-badge.svg\" alt=\"Open In Colab\"/></a>"
      ]
    },
    {
      "cell_type": "code",
      "source": [
        "import numpy as np"
      ],
      "metadata": {
        "id": "qLpEm_bh457r"
      },
      "execution_count": 1,
      "outputs": []
    },
    {
      "cell_type": "code",
      "source": [
        "import matplotlib.pyplot as plt"
      ],
      "metadata": {
        "id": "4uZMQrUOKow-"
      },
      "execution_count": 2,
      "outputs": []
    },
    {
      "cell_type": "markdown",
      "source": [
        "# Section 1 - N차원 배열 생성"
      ],
      "metadata": {
        "id": "dsiLntzc86-s"
      }
    },
    {
      "cell_type": "markdown",
      "source": [
        "## 1-1. N차원 배열 생성하기"
      ],
      "metadata": {
        "id": "xFUbkeIEPw46"
      }
    },
    {
      "cell_type": "code",
      "source": [
        "# 1차원 배열\n",
        "arr = np.array([1,2,3])\n",
        "print(arr)\n",
        "\n",
        "# 2차원 배열\n",
        "arr = np.array([[1,2,3,],\n",
        " [4,5,6]])\n",
        "print(arr)"
      ],
      "metadata": {
        "id": "C1nkmrFP60ZT",
        "colab": {
          "base_uri": "https://localhost:8080/"
        },
        "outputId": "fa63edd3-6f66-4279-e39b-ad123d7847cd"
      },
      "execution_count": 3,
      "outputs": [
        {
          "output_type": "stream",
          "name": "stdout",
          "text": [
            "[1 2 3]\n",
            "[[1 2 3]\n",
            " [4 5 6]]\n"
          ]
        }
      ]
    },
    {
      "cell_type": "code",
      "source": [
        "type([1,2,3])"
      ],
      "metadata": {
        "colab": {
          "base_uri": "https://localhost:8080/"
        },
        "id": "wkDWLjlUEopL",
        "outputId": "7084e3ed-e908-4656-97d3-d959acfcf960"
      },
      "execution_count": 4,
      "outputs": [
        {
          "output_type": "execute_result",
          "data": {
            "text/plain": [
              "list"
            ]
          },
          "metadata": {},
          "execution_count": 4
        }
      ]
    },
    {
      "cell_type": "code",
      "source": [
        "type(arr)"
      ],
      "metadata": {
        "colab": {
          "base_uri": "https://localhost:8080/"
        },
        "id": "TKFyEvVIIFXA",
        "outputId": "4bfa6d63-606e-4691-b818-de510c7473bd"
      },
      "execution_count": 5,
      "outputs": [
        {
          "output_type": "execute_result",
          "data": {
            "text/plain": [
              "numpy.ndarray"
            ]
          },
          "metadata": {},
          "execution_count": 5
        }
      ]
    },
    {
      "cell_type": "code",
      "source": [
        "tpl = (4,5,6)\n",
        "arr = np.array(tpl)\n",
        "print(arr)\n",
        "\n",
        "lst2 = [[1,2,3],[4,5,6]]\n",
        "arr2 = np.array(lst2)\n",
        "print(arr2)"
      ],
      "metadata": {
        "colab": {
          "base_uri": "https://localhost:8080/"
        },
        "id": "aFGVXrbiIK-c",
        "outputId": "332b9073-2646-4a60-ce75-69fd28745023"
      },
      "execution_count": 6,
      "outputs": [
        {
          "output_type": "stream",
          "name": "stdout",
          "text": [
            "[4 5 6]\n",
            "[[1 2 3]\n",
            " [4 5 6]]\n"
          ]
        }
      ]
    },
    {
      "cell_type": "code",
      "source": [
        "# shape\n",
        "arr1 = np.array([1,2,3])\n",
        "arr2 = np.array([[1,2,3,], [4,5,6]])\n",
        "\n",
        "print(arr1.shape, arr2.shape)\n",
        "\n",
        "# ndim\n",
        "print(arr1.ndim, arr2.ndim)\n",
        "\n",
        "# size\n",
        "print(arr1.size, arr2.size)"
      ],
      "metadata": {
        "colab": {
          "base_uri": "https://localhost:8080/"
        },
        "id": "DVr9AYy-JDg8",
        "outputId": "68b45ec7-fc9a-422e-8cf9-3d7a004cc7ed"
      },
      "execution_count": 7,
      "outputs": [
        {
          "output_type": "stream",
          "name": "stdout",
          "text": [
            "(3,) (2, 3)\n",
            "1 2\n",
            "3 6\n"
          ]
        }
      ]
    },
    {
      "cell_type": "markdown",
      "source": [
        "## 1-2. N차원 배열의 데이터 타입"
      ],
      "metadata": {
        "id": "XAldkL1_KZEO"
      }
    },
    {
      "cell_type": "code",
      "source": [
        "arr = np.array([1, 2, 3], dtype=float)\n",
        "print(arr, arr.dtype)\n",
        "\n",
        "arr = np.array([1.1, 2.2, 3.3], dtype=int)\n",
        "print(arr, arr.dtype)\n",
        "\n",
        "arr= np.array([0,1,1], dtype=bool)\n",
        "print(arr, arr.dtype)"
      ],
      "metadata": {
        "colab": {
          "base_uri": "https://localhost:8080/"
        },
        "id": "rOyAJ2aVL-_2",
        "outputId": "08bbeeaf-02f0-46e4-e37a-13171e3cc1dd"
      },
      "execution_count": 8,
      "outputs": [
        {
          "output_type": "stream",
          "name": "stdout",
          "text": [
            "[1. 2. 3.] float64\n",
            "[1 2 3] int64\n",
            "[False  True  True] bool\n"
          ]
        }
      ]
    },
    {
      "cell_type": "code",
      "source": [
        "arr = np.array([0,1,2,3])\n",
        "print(arr, arr.dtype)\n",
        "\n",
        "arr = arr.astype(np.float32)\n",
        "print(arr, arr.dtype)"
      ],
      "metadata": {
        "colab": {
          "base_uri": "https://localhost:8080/"
        },
        "id": "_uPFr6bBNxWV",
        "outputId": "789b423c-ed5a-4f27-817c-774d650eea1c"
      },
      "execution_count": 9,
      "outputs": [
        {
          "output_type": "stream",
          "name": "stdout",
          "text": [
            "[0 1 2 3] int64\n",
            "[0. 1. 2. 3.] float32\n"
          ]
        }
      ]
    },
    {
      "cell_type": "code",
      "source": [
        "arr = np.array([1, 2, 3.4])\n",
        "print(arr, arr.dtype)\n",
        "\n",
        "arr = np.array([1,2,3.4, \"64\"])\n",
        "print(arr, arr.dtype)\n",
        "\n",
        "arr = np.array([1,2,3.4, \"64\"], dtype = int)\n",
        "print(arr, arr.dtype)\n",
        "\n",
        "# arr = np.array([1,2,3.4, \"64\", \"문자열\"], dtype=int)\n",
        "# print(arr, arr.dtype)"
      ],
      "metadata": {
        "colab": {
          "base_uri": "https://localhost:8080/"
        },
        "id": "SQfnOFY6sZWO",
        "outputId": "ec59cf28-eede-4dc6-bc2d-178696549e2f"
      },
      "execution_count": 10,
      "outputs": [
        {
          "output_type": "stream",
          "name": "stdout",
          "text": [
            "[1.  2.  3.4] float64\n",
            "['1' '2' '3.4' '64'] <U32\n",
            "[ 1  2  3 64] int64\n"
          ]
        }
      ]
    },
    {
      "cell_type": "markdown",
      "source": [
        "## 1-3.정해진 형식의 N차원 배열 생성하기"
      ],
      "metadata": {
        "id": "RcqOeIshKS5_"
      }
    },
    {
      "cell_type": "code",
      "source": [
        "# np.zeros()\n",
        "arr = np.zeros([2,2])\n",
        "print(arr)\n",
        "\n",
        "# np.ones()\n",
        "arr = np.ones([3, 5])\n",
        "print(arr)\n",
        "\n",
        "# np.full()\n",
        "arr = np.full((2,3), 5)\n",
        "print(arr)\n",
        "\n",
        "# np.eye()\n",
        "arr = np.eye(3,4, k=0)\n",
        "print(arr)\n",
        "\n",
        "arr = np.eye(3,4, k=1)\n",
        "print(arr)"
      ],
      "metadata": {
        "colab": {
          "base_uri": "https://localhost:8080/"
        },
        "id": "Td-MDpV4BFij",
        "outputId": "e550680c-d4ce-4fca-9918-91f2f6ef8d3c"
      },
      "execution_count": 11,
      "outputs": [
        {
          "output_type": "stream",
          "name": "stdout",
          "text": [
            "[[0. 0.]\n",
            " [0. 0.]]\n",
            "[[1. 1. 1. 1. 1.]\n",
            " [1. 1. 1. 1. 1.]\n",
            " [1. 1. 1. 1. 1.]]\n",
            "[[5 5 5]\n",
            " [5 5 5]]\n",
            "[[1. 0. 0. 0.]\n",
            " [0. 1. 0. 0.]\n",
            " [0. 0. 1. 0.]]\n",
            "[[0. 1. 0. 0.]\n",
            " [0. 0. 1. 0.]\n",
            " [0. 0. 0. 1.]]\n"
          ]
        }
      ]
    },
    {
      "cell_type": "code",
      "source": [
        "arr = np.array([[1,2,3],\n",
        " [4,5,6]])\n",
        "\n",
        "# np.zeros_like()\n",
        "arr_z = np.zeros_like(arr)\n",
        "print(arr_z)\n",
        "\n",
        "# np.ones_like()\n",
        "arr_o = np.ones_like(arr)\n",
        "print(arr_o)\n",
        "\n",
        "# np.full_like()\n",
        "arr_f = np.full_like(arr, 9)\n",
        "print(arr_f)"
      ],
      "metadata": {
        "colab": {
          "base_uri": "https://localhost:8080/"
        },
        "id": "Ec3BhIH0_CsG",
        "outputId": "98dc148e-fe94-4766-e892-0e470c89a755"
      },
      "execution_count": 12,
      "outputs": [
        {
          "output_type": "stream",
          "name": "stdout",
          "text": [
            "[[0 0 0]\n",
            " [0 0 0]]\n",
            "[[1 1 1]\n",
            " [1 1 1]]\n",
            "[[9 9 9]\n",
            " [9 9 9]]\n"
          ]
        }
      ]
    },
    {
      "cell_type": "markdown",
      "source": [
        "## 1-4. 특정 범위의 값을 가지는 N차원 배열 생성하기"
      ],
      "metadata": {
        "id": "KyhO0O33KaCa"
      }
    },
    {
      "cell_type": "code",
      "source": [
        "lst = list(range(0, 9, 2))\n",
        "print(lst)"
      ],
      "metadata": {
        "colab": {
          "base_uri": "https://localhost:8080/"
        },
        "id": "cA1lq-fIBEeM",
        "outputId": "f11d966f-cc22-4b57-8767-ef7e2d49cf79"
      },
      "execution_count": 13,
      "outputs": [
        {
          "output_type": "stream",
          "name": "stdout",
          "text": [
            "[0, 2, 4, 6, 8]\n"
          ]
        }
      ]
    },
    {
      "cell_type": "code",
      "source": [
        "arr = np.arange(9)\n",
        "print(arr)\n",
        "arr = np.arange(0, 9, 2)\n",
        "print(arr)\n",
        "arr = np.arange(step=2, stop=9, start=0)\n",
        "print(arr)"
      ],
      "metadata": {
        "colab": {
          "base_uri": "https://localhost:8080/"
        },
        "id": "D1J8fZCjBCWI",
        "outputId": "43e5c513-12e8-4b9e-ef99-7457a49d3a59"
      },
      "execution_count": 14,
      "outputs": [
        {
          "output_type": "stream",
          "name": "stdout",
          "text": [
            "[0 1 2 3 4 5 6 7 8]\n",
            "[0 2 4 6 8]\n",
            "[0 2 4 6 8]\n"
          ]
        }
      ]
    },
    {
      "cell_type": "code",
      "source": [
        "# np.logspace()\n",
        "\n",
        "arr = np.linspace(1, 10, 10)    # 1부터 10까지 10개로 동일한 간격으로 쪼갬\n",
        "print(arr)\n",
        "\n",
        "arr = np.logspace(1, 10, 10, base=2)\n",
        "print(arr)\n",
        "\n",
        "arr = np.logspace(1, 10, 4, base = 2)   # 2^1, 2^4, 2^7, 2^10\n",
        "print(arr)\n",
        "\n",
        "arr = np.logspace(1, 10, 10)\n",
        "print(arr)"
      ],
      "metadata": {
        "colab": {
          "base_uri": "https://localhost:8080/"
        },
        "id": "P4JUvORQEQ9U",
        "outputId": "46d75da5-4f95-4f0e-a969-114d8ca56da8"
      },
      "execution_count": 15,
      "outputs": [
        {
          "output_type": "stream",
          "name": "stdout",
          "text": [
            "[ 1.  2.  3.  4.  5.  6.  7.  8.  9. 10.]\n",
            "[   2.    4.    8.   16.   32.   64.  128.  256.  512. 1024.]\n",
            "[   2.   16.  128. 1024.]\n",
            "[1.e+01 1.e+02 1.e+03 1.e+04 1.e+05 1.e+06 1.e+07 1.e+08 1.e+09 1.e+10]\n"
          ]
        }
      ]
    },
    {
      "cell_type": "markdown",
      "source": [
        "## 1-5. 난수로 N차원 배열 생성하기"
      ],
      "metadata": {
        "id": "aAwL6bCuKhbo"
      }
    },
    {
      "cell_type": "code",
      "source": [
        "# np.random.normal()\n",
        "# (정규분포의 평균, 표준편차, 표본 개수))\n",
        "\n",
        "arr = np.random.normal(0,1,10)\n",
        "print(arr)\n",
        "arr = np.random.normal(0, 1, (2,3))\n",
        "print(arr)"
      ],
      "metadata": {
        "colab": {
          "base_uri": "https://localhost:8080/"
        },
        "id": "WV8V4fTaKflW",
        "outputId": "cabae4f1-2aa2-41ed-df23-4e67d6d3bccb"
      },
      "execution_count": 16,
      "outputs": [
        {
          "output_type": "stream",
          "name": "stdout",
          "text": [
            "[ 0.09910468 -1.302556    1.47339742  0.71124705 -1.06807818 -0.07201615\n",
            "  1.04974939  1.28464153  0.04311251  0.9009315 ]\n",
            "[[-0.37492479 -0.10358547  0.78141684]\n",
            " [ 0.79496672 -0.67964864 -0.09625548]]\n"
          ]
        }
      ]
    },
    {
      "cell_type": "code",
      "source": [
        "arr = np.random.normal(0,1,10000) # 표본의 개수가 많아질수록 정규분포에 가까워진다\n",
        "plt.hist(arr, bins=100)     # 난수를 100개의 구간으로\n",
        "plt.show()"
      ],
      "metadata": {
        "colab": {
          "base_uri": "https://localhost:8080/",
          "height": 430
        },
        "id": "cRgj-LeSL3iH",
        "outputId": "9b73361b-b3fb-4467-e5df-e66167fe072e"
      },
      "execution_count": 17,
      "outputs": [
        {
          "output_type": "display_data",
          "data": {
            "text/plain": [
              "<Figure size 640x480 with 1 Axes>"
            ],
            "image/png": "[encoded data removed]"
          },
          "metadata": {}
        }
      ]
    },
    {
      "cell_type": "code",
      "source": [
        "# np.random.rand(표본개수)\n",
        "# 0에서 1 사이의 값을 균등한 비율로 표본을 추출하는 함수\n",
        "\n",
        "arr = np.random.rand(1000)\n",
        "plt.hist(arr, bins=100)\n",
        "plt.show()"
      ],
      "metadata": {
        "colab": {
          "base_uri": "https://localhost:8080/",
          "height": 430
        },
        "id": "8i69hzNrMZbV",
        "outputId": "fc903593-8861-4b4f-c387-7c068e7485f1"
      },
      "execution_count": 18,
      "outputs": [
        {
          "output_type": "display_data",
          "data": {
            "text/plain": [
              "<Figure size 640x480 with 1 Axes>"
            ],
            "image/png": "[encoded data removed]"
          },
          "metadata": {}
        }
      ]
    },
    {
      "cell_type": "code",
      "source": [
        "# np.random.randn(표본개수)\n",
        "# -1 부터 +1 사이의 값을 정규분포 표본을 추출하는 함수\n",
        "\n",
        "arr = np.random.randn(1000)\n",
        "plt.hist(arr, bins=100)\n",
        "plt.show()"
      ],
      "metadata": {
        "colab": {
          "base_uri": "https://localhost:8080/",
          "height": 430
        },
        "id": "Alv11OR9M6JR",
        "outputId": "16dd9a1d-e3a3-46ba-c8ef-fffc129e8e09"
      },
      "execution_count": 19,
      "outputs": [
        {
          "output_type": "display_data",
          "data": {
            "text/plain": [
              "<Figure size 640x480 with 1 Axes>"
            ],
            "image/png": "[encoded data removed]"
          },
          "metadata": {}
        }
      ]
    },
    {
      "cell_type": "code",
      "source": [
        "# np.random.randint()\n",
        "# 랜덤한 정수만 출력하는 함수\n",
        "\n",
        "arr = np.random.randint(low=1, high=5, size=10)\n",
        "print(arr)\n",
        "\n",
        "arr = np.random.randint(low=1,high=10, size=(2,3))\n",
        "print(arr)\n",
        "\n",
        "arr = np.random.randint(5)  # high가 5, 5까지의 숫자 중 하나 추출\n",
        "print(arr)"
      ],
      "metadata": {
        "colab": {
          "base_uri": "https://localhost:8080/"
        },
        "id": "gjsMe-C8NSMG",
        "outputId": "8e36bbaf-d2de-49d4-d1b0-717bb74a1e76"
      },
      "execution_count": 20,
      "outputs": [
        {
          "output_type": "stream",
          "name": "stdout",
          "text": [
            "[2 1 1 3 2 1 2 1 1 4]\n",
            "[[8 5 5]\n",
            " [5 2 7]]\n",
            "4\n"
          ]
        }
      ]
    },
    {
      "cell_type": "code",
      "source": [
        "arr = np.random.randint(100, 200, 1000)\n",
        "plt.hist(arr, bins=100)\n",
        "plt.show()"
      ],
      "metadata": {
        "colab": {
          "base_uri": "https://localhost:8080/",
          "height": 430
        },
        "id": "a2Io89rJNfJM",
        "outputId": "b1e9612f-7e16-42e7-8bcd-fb0412e85e84"
      },
      "execution_count": 21,
      "outputs": [
        {
          "output_type": "display_data",
          "data": {
            "text/plain": [
              "<Figure size 640x480 with 1 Axes>"
            ],
            "image/png": "[encoded data removed]"
          },
          "metadata": {}
        }
      ]
    },
    {
      "cell_type": "markdown",
      "source": [
        "## 1-6. 시드(seed)값을 통한 난수 생성 제어"
      ],
      "metadata": {
        "id": "jQiiiSjtOWLz"
      }
    },
    {
      "cell_type": "code",
      "source": [
        "arr = np.random.rand(10)\n",
        "print(\"난수 발생1 \\n\", arr)\n",
        "\n",
        "arr = np.random.rand(10)\n",
        "print(\"난수 발생 \\n\", arr)"
      ],
      "metadata": {
        "colab": {
          "base_uri": "https://localhost:8080/"
        },
        "id": "NECMBS-dORnO",
        "outputId": "c20632e8-9b3d-4ea8-808a-563902d96e44"
      },
      "execution_count": 22,
      "outputs": [
        {
          "output_type": "stream",
          "name": "stdout",
          "text": [
            "난수 발생1 \n",
            " [0.60751363 0.3363026  0.87132604 0.59554494 0.87605576 0.27390537\n",
            " 0.01736279 0.81302937 0.66950873 0.93152097]\n",
            "난수 발생 \n",
            " [0.05655041 0.01259119 0.46925163 0.29286921 0.43638043 0.02632987\n",
            " 0.86151314 0.38919459 0.98855982 0.10653717]\n"
          ]
        }
      ]
    },
    {
      "cell_type": "code",
      "source": [
        "# 난수를 동일하게 하고 싶을 때\n",
        "\n",
        "np.random.seed(10)\n",
        "arr = np.random.rand(10)\n",
        "print(\"난수 발생1 \\n\", arr)\n",
        "\n",
        "np.random.seed(10)\n",
        "arr = np.random.rand(10)\n",
        "print(\"난수 발생2 \\n\", arr)"
      ],
      "metadata": {
        "colab": {
          "base_uri": "https://localhost:8080/"
        },
        "id": "xJ0wyDK2PDLR",
        "outputId": "faf77bc7-1de4-48d6-9310-f2a5072d48d2"
      },
      "execution_count": 23,
      "outputs": [
        {
          "output_type": "stream",
          "name": "stdout",
          "text": [
            "난수 발생1 \n",
            " [0.77132064 0.02075195 0.63364823 0.74880388 0.49850701 0.22479665\n",
            " 0.19806286 0.76053071 0.16911084 0.08833981]\n",
            "난수 발생2 \n",
            " [0.77132064 0.02075195 0.63364823 0.74880388 0.49850701 0.22479665\n",
            " 0.19806286 0.76053071 0.16911084 0.08833981]\n"
          ]
        }
      ]
    },
    {
      "cell_type": "code",
      "source": [],
      "metadata": {
        "id": "02Hw-0z-Poyv"
      },
      "execution_count": 23,
      "outputs": []
    },
    {
      "cell_type": "markdown",
      "source": [
        "# Section 2 - N차원 배열의 인덱싱"
      ],
      "metadata": {
        "id": "cXmjxFoZP3tq"
      }
    },
    {
      "cell_type": "markdown",
      "source": [
        "## 2-1. 배열의 index 접근하기"
      ],
      "metadata": {
        "id": "H-3Y3sLcQHhI"
      }
    },
    {
      "cell_type": "code",
      "source": [
        "# 1차원 배열\n",
        "arr = np.array([0,1,2,3,4,5,6,7,8,9])\n",
        "arr = np.arange(10)\n",
        "print(arr)\n",
        "\n",
        "print(arr[3])\n",
        "print(arr[1])\n",
        "print(arr[9])\n",
        "print(arr[-1])\n",
        "print(arr[-3])\n",
        "print(arr[-10])"
      ],
      "metadata": {
        "colab": {
          "base_uri": "https://localhost:8080/"
        },
        "id": "3rRanT75QPAe",
        "outputId": "0534e9c0-1866-4741-d98a-326c807d4d0d"
      },
      "execution_count": 24,
      "outputs": [
        {
          "output_type": "stream",
          "name": "stdout",
          "text": [
            "[0 1 2 3 4 5 6 7 8 9]\n",
            "3\n",
            "1\n",
            "9\n",
            "9\n",
            "7\n",
            "0\n"
          ]
        }
      ]
    },
    {
      "cell_type": "code",
      "source": [
        "# 2차원 배열\n",
        "\n",
        "arr = np.array([[1,2,3,4],\n",
        "                [5,6,7,8],\n",
        "                [9,10,11,12]])\n",
        "print(arr, arr.shape, arr.ndim)\n",
        "print(arr[0,3])"
      ],
      "metadata": {
        "colab": {
          "base_uri": "https://localhost:8080/"
        },
        "id": "EzwRSu-bQzQV",
        "outputId": "1485f3e8-52d9-4c45-d7b9-bbd30480abcb"
      },
      "execution_count": 25,
      "outputs": [
        {
          "output_type": "stream",
          "name": "stdout",
          "text": [
            "[[ 1  2  3  4]\n",
            " [ 5  6  7  8]\n",
            " [ 9 10 11 12]] (3, 4) 2\n",
            "4\n"
          ]
        }
      ]
    },
    {
      "cell_type": "code",
      "source": [
        "arr = arr = np.array([0,1,2,3,4,5,6,7,8,9])\n",
        "print(arr[3:8])\n",
        "print(arr[3:])\n",
        "print(arr[:7])\n",
        "print(arr[:])\n",
        "print(arr[:-1])"
      ],
      "metadata": {
        "colab": {
          "base_uri": "https://localhost:8080/"
        },
        "id": "7moyGgccRkWn",
        "outputId": "104096e4-62ab-4e73-a5b2-b73172c87d9f"
      },
      "execution_count": 26,
      "outputs": [
        {
          "output_type": "stream",
          "name": "stdout",
          "text": [
            "[3 4 5 6 7]\n",
            "[3 4 5 6 7 8 9]\n",
            "[0 1 2 3 4 5 6]\n",
            "[0 1 2 3 4 5 6 7 8 9]\n",
            "[0 1 2 3 4 5 6 7 8]\n"
          ]
        }
      ]
    },
    {
      "cell_type": "code",
      "source": [
        "arr = np.array([[1,2,3,4],\n",
        "                [5,6,7,8],\n",
        "                [9,10,11,12]])\n",
        "print(arr[0,:])\n",
        "print(arr[:, 1])"
      ],
      "metadata": {
        "colab": {
          "base_uri": "https://localhost:8080/"
        },
        "id": "1mtzAEZhRzea",
        "outputId": "ad0004a0-4fd5-4f55-ee67-0bf263fe1e37"
      },
      "execution_count": 27,
      "outputs": [
        {
          "output_type": "stream",
          "name": "stdout",
          "text": [
            "[1 2 3 4]\n",
            "[ 2  6 10]\n"
          ]
        }
      ]
    },
    {
      "cell_type": "code",
      "source": [
        "print(arr[:3, :])\n",
        "print(arr[:2, 2:])"
      ],
      "metadata": {
        "colab": {
          "base_uri": "https://localhost:8080/"
        },
        "id": "W86_ak0rSFUk",
        "outputId": "5a91affa-b9d2-4da2-d76f-3e1d13c6fee0"
      },
      "execution_count": 28,
      "outputs": [
        {
          "output_type": "stream",
          "name": "stdout",
          "text": [
            "[[ 1  2  3  4]\n",
            " [ 5  6  7  8]\n",
            " [ 9 10 11 12]]\n",
            "[[3 4]\n",
            " [7 8]]\n"
          ]
        }
      ]
    },
    {
      "cell_type": "markdown",
      "source": [
        "## 2-2. 배열의 Fancy 인덱싱"
      ],
      "metadata": {
        "id": "JIMacklUSVgn"
      }
    },
    {
      "cell_type": "code",
      "source": [
        "# 1차원 배열\n",
        "arr = np.array([5,10,15,20,25,30])\n",
        "print(arr[[0,2,4]]) # 0번째, 2번째, 4번째"
      ],
      "metadata": {
        "colab": {
          "base_uri": "https://localhost:8080/"
        },
        "id": "HqQmEV3CSTZa",
        "outputId": "02c3cff3-3a37-4dc6-c307-52a0dbbe4fba"
      },
      "execution_count": 29,
      "outputs": [
        {
          "output_type": "stream",
          "name": "stdout",
          "text": [
            "[ 5 15 25]\n"
          ]
        }
      ]
    },
    {
      "cell_type": "code",
      "source": [
        "# 2차원 배열\n",
        "arr = np.array([[5,10,15,20],\n",
        "                [25,30,35,40],\n",
        "                [45,50,55,60]])\n",
        "print(arr[[0,2], 2:]) # 0행, 2행\n",
        "print(arr[1:, [2,3]]) # 2열, 3열"
      ],
      "metadata": {
        "colab": {
          "base_uri": "https://localhost:8080/"
        },
        "id": "2KoLqiuuTjKu",
        "outputId": "e5b8abbb-d0b2-4782-deb6-793dff0be817"
      },
      "execution_count": 30,
      "outputs": [
        {
          "output_type": "stream",
          "name": "stdout",
          "text": [
            "[[15 20]\n",
            " [55 60]]\n",
            "[[35 40]\n",
            " [55 60]]\n"
          ]
        }
      ]
    },
    {
      "cell_type": "markdown",
      "source": [
        "## 2-3. Boolean 인덱싱"
      ],
      "metadata": {
        "id": "YDoodDj9VI13"
      }
    },
    {
      "cell_type": "code",
      "source": [
        "arr = np.array([1,2,3,4])\n",
        "print(arr[[True,False,True,True]])\n",
        "\n",
        "arr = np.array([[1,2,3,4],\n",
        "                [5,6,7,8]])\n",
        "print(arr[[True,False],True])"
      ],
      "metadata": {
        "colab": {
          "base_uri": "https://localhost:8080/"
        },
        "id": "djalL8UMVNac",
        "outputId": "ea9d68cd-7d70-4641-9d85-f05ce24346a7"
      },
      "execution_count": 31,
      "outputs": [
        {
          "output_type": "stream",
          "name": "stdout",
          "text": [
            "[1 3 4]\n",
            "[[1 2 3 4]]\n"
          ]
        }
      ]
    },
    {
      "cell_type": "code",
      "source": [
        "print(arr[arr>3])\n",
        "print(arr[arr<=2])"
      ],
      "metadata": {
        "colab": {
          "base_uri": "https://localhost:8080/"
        },
        "id": "1pTMWHlJWQXQ",
        "outputId": "dbb96393-20b8-460b-89aa-67e461c34480"
      },
      "execution_count": 32,
      "outputs": [
        {
          "output_type": "stream",
          "name": "stdout",
          "text": [
            "[4 5 6 7 8]\n",
            "[1 2]\n"
          ]
        }
      ]
    },
    {
      "cell_type": "markdown",
      "source": [
        "# Section 3 - N차원 배열 연산법"
      ],
      "metadata": {
        "id": "2ZxP6rxKWdAj"
      }
    },
    {
      "cell_type": "markdown",
      "source": [
        "## 3-1. 배열의 연산 1: 사칙연산/제곱/제곱근/몫/나머지"
      ],
      "metadata": {
        "id": "lvbc9ytGWgf0"
      }
    },
    {
      "cell_type": "markdown",
      "source": [
        "배열을 연산하려면 shape이 같아야 한다.\n",
        "\n",
        "shape이 다른 배열들끼리 연산하게 해주는 broadcasting 기능이 있다."
      ],
      "metadata": {
        "id": "EyyCH-9ydLwB"
      }
    },
    {
      "cell_type": "code",
      "source": [
        "arr1 = np.array([[1,2,3,],\n",
        "                 [4,5,6],\n",
        "                 [7,8,9]])\n",
        "arr2 = np.array([[2,2,2,],\n",
        "                 [2,2,2,],\n",
        "                 [2,2,2,]])\n",
        "print(arr1)\n",
        "print(arr2)"
      ],
      "metadata": {
        "colab": {
          "base_uri": "https://localhost:8080/"
        },
        "id": "N9XpcXs0Wjhs",
        "outputId": "26e1a236-d733-4036-c04d-34e0ab44a87c"
      },
      "execution_count": 33,
      "outputs": [
        {
          "output_type": "stream",
          "name": "stdout",
          "text": [
            "[[1 2 3]\n",
            " [4 5 6]\n",
            " [7 8 9]]\n",
            "[[2 2 2]\n",
            " [2 2 2]\n",
            " [2 2 2]]\n"
          ]
        }
      ]
    },
    {
      "cell_type": "code",
      "source": [
        "# 덧셈\n",
        "print(arr1+arr2)\n",
        "print(np.add(arr1, arr2))"
      ],
      "metadata": {
        "colab": {
          "base_uri": "https://localhost:8080/"
        },
        "id": "8EnHq8A_eR5T",
        "outputId": "7ffba131-40aa-483a-9eb4-9b80c81f7300"
      },
      "execution_count": 34,
      "outputs": [
        {
          "output_type": "stream",
          "name": "stdout",
          "text": [
            "[[ 3  4  5]\n",
            " [ 6  7  8]\n",
            " [ 9 10 11]]\n",
            "[[ 3  4  5]\n",
            " [ 6  7  8]\n",
            " [ 9 10 11]]\n"
          ]
        }
      ]
    },
    {
      "cell_type": "code",
      "source": [
        "# 뺄셈\n",
        "print(arr1-arr2)\n",
        "print(np.subtract(arr1, arr2))"
      ],
      "metadata": {
        "colab": {
          "base_uri": "https://localhost:8080/"
        },
        "id": "0n2OZNUPeWUF",
        "outputId": "66fb9789-072b-4125-a013-6c02a68a67b7"
      },
      "execution_count": 35,
      "outputs": [
        {
          "output_type": "stream",
          "name": "stdout",
          "text": [
            "[[-1  0  1]\n",
            " [ 2  3  4]\n",
            " [ 5  6  7]]\n",
            "[[-1  0  1]\n",
            " [ 2  3  4]\n",
            " [ 5  6  7]]\n"
          ]
        }
      ]
    },
    {
      "cell_type": "code",
      "source": [
        "# 곱셈 (단지 원소끼리의 곱셈, 내적이 아님)\n",
        "print(arr1*arr2)\n",
        "print(np.multiply(arr1, arr2))"
      ],
      "metadata": {
        "colab": {
          "base_uri": "https://localhost:8080/"
        },
        "id": "6lks_vYRebDC",
        "outputId": "04c66bb3-ac9b-4277-a47f-981939544a1a"
      },
      "execution_count": 36,
      "outputs": [
        {
          "output_type": "stream",
          "name": "stdout",
          "text": [
            "[[ 2  4  6]\n",
            " [ 8 10 12]\n",
            " [14 16 18]]\n",
            "[[ 2  4  6]\n",
            " [ 8 10 12]\n",
            " [14 16 18]]\n"
          ]
        }
      ]
    },
    {
      "cell_type": "code",
      "source": [
        "# 나눗셈\n",
        "print(arr1/arr2)\n",
        "print(np.divide(arr1, arr2))"
      ],
      "metadata": {
        "colab": {
          "base_uri": "https://localhost:8080/"
        },
        "id": "-W6K0sWqepvU",
        "outputId": "2d1a705d-d4e9-4410-f7ea-2823c5f17073"
      },
      "execution_count": 37,
      "outputs": [
        {
          "output_type": "stream",
          "name": "stdout",
          "text": [
            "[[0.5 1.  1.5]\n",
            " [2.  2.5 3. ]\n",
            " [3.5 4.  4.5]]\n",
            "[[0.5 1.  1.5]\n",
            " [2.  2.5 3. ]\n",
            " [3.5 4.  4.5]]\n"
          ]
        }
      ]
    },
    {
      "cell_type": "code",
      "source": [
        "# 제곱\n",
        "arr1 = np.array([[1,2,3,],\n",
        "                 [4,5,6],\n",
        "                 [7,8,9]])\n",
        "arr2 = np.array([[2,2,2,],\n",
        "                 [2,2,2,],\n",
        "                 [2,2,2,]])\n",
        "print(arr1 ** 2)\n",
        "print(arr2 ** 5)\n",
        "print(np.square(arr1))"
      ],
      "metadata": {
        "colab": {
          "base_uri": "https://localhost:8080/"
        },
        "id": "i0pp73Ioew4D",
        "outputId": "8930d3df-e0a6-489b-b64a-4cdda3bdfe0e"
      },
      "execution_count": 38,
      "outputs": [
        {
          "output_type": "stream",
          "name": "stdout",
          "text": [
            "[[ 1  4  9]\n",
            " [16 25 36]\n",
            " [49 64 81]]\n",
            "[[32 32 32]\n",
            " [32 32 32]\n",
            " [32 32 32]]\n",
            "[[ 1  4  9]\n",
            " [16 25 36]\n",
            " [49 64 81]]\n"
          ]
        }
      ]
    },
    {
      "cell_type": "code",
      "source": [
        "# 제곱근\n",
        "print(np.sqrt(arr1))"
      ],
      "metadata": {
        "colab": {
          "base_uri": "https://localhost:8080/"
        },
        "id": "5SIWJ4A2e_2S",
        "outputId": "f44d6bd5-0385-4aae-f549-9360ca1d650c"
      },
      "execution_count": 39,
      "outputs": [
        {
          "output_type": "stream",
          "name": "stdout",
          "text": [
            "[[1.         1.41421356 1.73205081]\n",
            " [2.         2.23606798 2.44948974]\n",
            " [2.64575131 2.82842712 3.        ]]\n"
          ]
        }
      ]
    },
    {
      "cell_type": "code",
      "source": [
        "# 몫\n",
        "print(arr1//2)\n",
        "\n",
        "#나머지\n",
        "print(arr1 % 2)"
      ],
      "metadata": {
        "colab": {
          "base_uri": "https://localhost:8080/"
        },
        "id": "DenL4esqfJH_",
        "outputId": "10c0ae73-4b7e-4aac-8841-ce3705057e9c"
      },
      "execution_count": 40,
      "outputs": [
        {
          "output_type": "stream",
          "name": "stdout",
          "text": [
            "[[0 1 1]\n",
            " [2 2 3]\n",
            " [3 4 4]]\n",
            "[[1 0 1]\n",
            " [0 1 0]\n",
            " [1 0 1]]\n"
          ]
        }
      ]
    },
    {
      "cell_type": "markdown",
      "source": [
        "## 3-2. 배열의 연산 2: 내적(dot product)/절댓값/올림/내림/반올림/버림"
      ],
      "metadata": {
        "id": "E7FAwlFHfRmy"
      }
    },
    {
      "cell_type": "code",
      "source": [
        "# 1차원 행렬\n",
        "arr1 = np.array([2,3,4])\n",
        "arr2 = np.array([1,2,3])\n",
        "\n",
        "print(np.dot(arr1, arr2)) # 2+6+12"
      ],
      "metadata": {
        "colab": {
          "base_uri": "https://localhost:8080/"
        },
        "id": "7Kx9eKeGfLQw",
        "outputId": "26adf195-3ed9-493b-8d95-adcdb2ca626e"
      },
      "execution_count": 41,
      "outputs": [
        {
          "output_type": "stream",
          "name": "stdout",
          "text": [
            "20\n"
          ]
        }
      ]
    },
    {
      "cell_type": "code",
      "source": [
        "# 2차원 행렬\n",
        "\n",
        "arr1 = np.array([[1,2],\n",
        "                [4,5]])\n",
        "arr2 = np.array([[1,2],\n",
        "                [0,3]])\n",
        "print(np.dot(arr1, arr2))"
      ],
      "metadata": {
        "colab": {
          "base_uri": "https://localhost:8080/"
        },
        "id": "DINXX48-fp46",
        "outputId": "4c9c298b-857b-49e3-a36d-e58a50e8a5ab"
      },
      "execution_count": 42,
      "outputs": [
        {
          "output_type": "stream",
          "name": "stdout",
          "text": [
            "[[ 1  8]\n",
            " [ 4 23]]\n"
          ]
        }
      ]
    },
    {
      "cell_type": "code",
      "source": [
        "arr1 = np.array([[1.932, -2.339],\n",
        "                 [-4.145, 5.206]])\n",
        "# 올림\n",
        "print(np.ceil(arr1))\n",
        "\n",
        "# 내림\n",
        "print(np.floor(arr1))\n",
        "\n",
        "# 반올림\n",
        "print(np.round(arr1))\n",
        "\n",
        "# 버림\n",
        "print(np.trunc(arr1))"
      ],
      "metadata": {
        "colab": {
          "base_uri": "https://localhost:8080/"
        },
        "id": "m4xZLI5GjdPD",
        "outputId": "912b14fa-9152-4a2d-870f-8c350cd70e67"
      },
      "execution_count": 43,
      "outputs": [
        {
          "output_type": "stream",
          "name": "stdout",
          "text": [
            "[[ 2. -2.]\n",
            " [-4.  6.]]\n",
            "[[ 1. -3.]\n",
            " [-5.  5.]]\n",
            "[[ 2. -2.]\n",
            " [-4.  5.]]\n",
            "[[ 1. -2.]\n",
            " [-4.  5.]]\n"
          ]
        }
      ]
    },
    {
      "cell_type": "markdown",
      "source": [
        "## 3-3. 배열의 연산 3: min/max/sum/mean/std/cumsum/median"
      ],
      "metadata": {
        "id": "DpvNVCRIj8HN"
      }
    },
    {
      "cell_type": "code",
      "source": [
        "arr = np.array([[1,2,3],\n",
        "                [0,1,4]])"
      ],
      "metadata": {
        "id": "1FOLlN93kKX_"
      },
      "execution_count": 44,
      "outputs": []
    },
    {
      "cell_type": "code",
      "source": [
        "# min()\n",
        "print(np.min(arr))\n",
        "print(arr.min())\n",
        "print(arr.min(axis=0))  # 열 min\n",
        "print(arr.min(axis=1))  # 행 min"
      ],
      "metadata": {
        "colab": {
          "base_uri": "https://localhost:8080/"
        },
        "id": "bCcLRL-9j4YS",
        "outputId": "1fbd5538-83c0-4108-d342-5ebee946b87f"
      },
      "execution_count": 45,
      "outputs": [
        {
          "output_type": "stream",
          "name": "stdout",
          "text": [
            "0\n",
            "0\n",
            "[0 1 3]\n",
            "[1 0]\n"
          ]
        }
      ]
    },
    {
      "cell_type": "code",
      "source": [
        "# max()\n",
        "print(np.max(arr))\n",
        "print(arr.max())\n",
        "print(arr.max(axis=0))\n",
        "print(arr.max(axis=1))"
      ],
      "metadata": {
        "colab": {
          "base_uri": "https://localhost:8080/"
        },
        "id": "G-PGO4yTlK19",
        "outputId": "89a2575a-563d-4ee2-f0b7-96799bf3ea1a"
      },
      "execution_count": 46,
      "outputs": [
        {
          "output_type": "stream",
          "name": "stdout",
          "text": [
            "4\n",
            "4\n",
            "[1 2 4]\n",
            "[3 4]\n"
          ]
        }
      ]
    },
    {
      "cell_type": "code",
      "source": [
        "# sum()\n",
        "print(np.sum(arr))\n",
        "print(arr.sum())\n",
        "print(arr.sum(axis=0))\n",
        "print(arr.sum(axis=1))"
      ],
      "metadata": {
        "colab": {
          "base_uri": "https://localhost:8080/"
        },
        "id": "ASuVSPHQqsBS",
        "outputId": "73ef2568-e071-4c3b-c842-ff8c409c3935"
      },
      "execution_count": 47,
      "outputs": [
        {
          "output_type": "stream",
          "name": "stdout",
          "text": [
            "11\n",
            "11\n",
            "[1 3 7]\n",
            "[6 5]\n"
          ]
        }
      ]
    },
    {
      "cell_type": "code",
      "source": [
        "# mean()\n",
        "print(np.mean(arr))     # 11/6\n",
        "print(arr.mean(axis=0))\n",
        "print(arr.mean(axis=1))"
      ],
      "metadata": {
        "colab": {
          "base_uri": "https://localhost:8080/"
        },
        "id": "BkEBOpLSrF2l",
        "outputId": "2e4a8060-18e9-4672-acbc-d9932054a625"
      },
      "execution_count": 48,
      "outputs": [
        {
          "output_type": "stream",
          "name": "stdout",
          "text": [
            "1.8333333333333333\n",
            "[0.5 1.5 3.5]\n",
            "[2.         1.66666667]\n"
          ]
        }
      ]
    },
    {
      "cell_type": "code",
      "source": [
        "# std() 표준편차\n",
        "print(np.std(arr))\n",
        "print(arr.std(axis=0))\n",
        "print(arr.std(axis=1))"
      ],
      "metadata": {
        "colab": {
          "base_uri": "https://localhost:8080/"
        },
        "id": "VxIY5LtQrgED",
        "outputId": "cde9c675-3f1b-425f-a927-282725f39380"
      },
      "execution_count": 49,
      "outputs": [
        {
          "output_type": "stream",
          "name": "stdout",
          "text": [
            "1.343709624716425\n",
            "[0.5 0.5 0.5]\n",
            "[0.81649658 1.69967317]\n"
          ]
        }
      ]
    },
    {
      "cell_type": "markdown",
      "source": [
        "첫 번째 열의 표준 편차:\n",
        "\n",
        "평균: (1 + 0) / 2 = 0.5\n",
        "분산: ((1 - 0.5)^2 + (0 - 0.5)^2) / 2 = 0.25\n",
        "표준 편차: sqrt(0.25) = 0.5\n",
        "두 번째 열의 표준 편차:\n",
        "\n",
        "평균: (2 + 1) / 2 = 1.5\n",
        "분산: ((2 - 1.5)^2 + (1 - 1.5)^2) / 2 = 0.25\n",
        "표준 편차: sqrt(0.25) = 0.5\n",
        "세 번째 열의 표준 편차:\n",
        "\n",
        "평균: (3 + 4) / 2 = 3.5\n",
        "분산: ((3 - 3.5)^2 + (4 - 3.5)^2) / 2 = 0.25\n",
        "표준 편차: sqrt(0.25) = 0.5\n",
        "첫 번째 행의 표준 편차:\n",
        "\n",
        "평균: (1 + 2 + 3) / 3 = 2\n",
        "분산: ((1 - 2)^2 + (2 - 2)^2 + (3 - 2)^2) / 3 = 2/3\n",
        "표준 편차: sqrt(2/3) ≈ 0.81649658\n",
        "두 번째 행의 표준 편차:\n",
        "\n",
        "평균: (0 + 1 + 4) / 3 = 5/3\n",
        "분산: ((0 - 5/3)^2 + (1 - 5/3)^2 + (4 - 5/3)^2) / 3 ≈ 2.88888889\n",
        "표준 편차: sqrt(2.88888889) ≈ 1.69967317"
      ],
      "metadata": {
        "id": "UVdiV40EthJx"
      }
    },
    {
      "cell_type": "code",
      "source": [
        "# cumsum()\n",
        "print(np.cumsum(arr))\n",
        "print(arr.cumsum())\n",
        "print(arr.cumsum(axis=0))\n",
        "print(arr.cumsum(axis=1))"
      ],
      "metadata": {
        "colab": {
          "base_uri": "https://localhost:8080/"
        },
        "id": "oLldceBxtvWf",
        "outputId": "2498b6d0-c561-4a94-bda7-98c67d8e84fd"
      },
      "execution_count": 50,
      "outputs": [
        {
          "output_type": "stream",
          "name": "stdout",
          "text": [
            "[ 1  3  6  6  7 11]\n",
            "[ 1  3  6  6  7 11]\n",
            "[[1 2 3]\n",
            " [1 3 7]]\n",
            "[[1 3 6]\n",
            " [0 1 5]]\n"
          ]
        }
      ]
    },
    {
      "cell_type": "markdown",
      "source": [
        "[[1,2,3], [0,1,4]] => [[1,2,3], [1+0, 2+1, 3+4]]\n",
        "\n",
        "[[1,2,3], [0,1,4]] => [[1, 1+2, 1+2+3], [0, 0+1, 0+1+4]]"
      ],
      "metadata": {
        "id": "LOznm0UduU_F"
      }
    },
    {
      "cell_type": "code",
      "source": [
        "# median\n",
        "# 정렬을 했을 때 가장 중앙에 있는 값을 반환\n",
        "\n",
        "arr = np.array([[1,2,3],\n",
        "                [0,1,4],\n",
        "                [1,5,2]])\n",
        "\n",
        "print(np.median(arr, axis=0))\n",
        "# (0,1,1) 중 1, (1,2,5) 중 2, (2,3,4)중 3\n",
        "\n",
        "print(np.median(arr, axis=1))\n",
        "# (1,2,3) 중 2, (0,1,4) 중 1, (1,5,2) 중 2"
      ],
      "metadata": {
        "colab": {
          "base_uri": "https://localhost:8080/"
        },
        "id": "DyMhQTGZG3k-",
        "outputId": "9b3feb19-d4a4-4fa1-d380-b46a937108a9"
      },
      "execution_count": 51,
      "outputs": [
        {
          "output_type": "stream",
          "name": "stdout",
          "text": [
            "[1. 2. 3.]\n",
            "[2. 1. 2.]\n"
          ]
        }
      ]
    },
    {
      "cell_type": "markdown",
      "source": [
        "## 3-4. 배열의 연산 4: 비교 연산/삼각함수"
      ],
      "metadata": {
        "id": "8o1S-f9xHt_y"
      }
    },
    {
      "cell_type": "code",
      "source": [
        "# 비교 연산의 결과는 Boolean 값\n",
        "arr1 = np.array([[1,2,3],\n",
        "                 [4,5,6]])\n",
        "arr2 = np.array([[1,0,3],\n",
        "                 [4,-2,9]])\n",
        "\n",
        "print(arr1 == arr2)\n",
        "print(arr1 > arr2)\n",
        "print(np.array_equal(arr1, arr2))   # 배열이 완전히 같은가?"
      ],
      "metadata": {
        "colab": {
          "base_uri": "https://localhost:8080/"
        },
        "id": "72U8Ofp9Hq8Y",
        "outputId": "426a4796-f1b7-428c-9a46-ab525c31ec71"
      },
      "execution_count": 52,
      "outputs": [
        {
          "output_type": "stream",
          "name": "stdout",
          "text": [
            "[[ True False  True]\n",
            " [ True False False]]\n",
            "[[False  True False]\n",
            " [False  True False]]\n",
            "False\n"
          ]
        }
      ]
    },
    {
      "cell_type": "code",
      "source": [
        "# 삼각 함수\n",
        "arr = np.array([[1,2,3],[4,5,6]])\n",
        "\n",
        "# sin()\n",
        "print(np.sin(arr))\n",
        "# cos()\n",
        "print(np.cos(arr))\n",
        "#tan()\n",
        "print(np.tan(arr))\n",
        "# pi\n",
        "print(np.pi)"
      ],
      "metadata": {
        "colab": {
          "base_uri": "https://localhost:8080/"
        },
        "id": "p494B5mrIPg3",
        "outputId": "abe0f75d-ae03-43bf-81df-aa2772df85cc"
      },
      "execution_count": 53,
      "outputs": [
        {
          "output_type": "stream",
          "name": "stdout",
          "text": [
            "[[ 0.84147098  0.90929743  0.14112001]\n",
            " [-0.7568025  -0.95892427 -0.2794155 ]]\n",
            "[[ 0.54030231 -0.41614684 -0.9899925 ]\n",
            " [-0.65364362  0.28366219  0.96017029]]\n",
            "[[ 1.55740772 -2.18503986 -0.14254654]\n",
            " [ 1.15782128 -3.38051501 -0.29100619]]\n",
            "3.141592653589793\n"
          ]
        }
      ]
    },
    {
      "cell_type": "markdown",
      "source": [
        "## 3-5. 브로드캐스팅 (Broadcasting)"
      ],
      "metadata": {
        "id": "onuIrLDyJJXi"
      }
    },
    {
      "cell_type": "markdown",
      "source": [
        "shape이 다른 두 배열의 연산을 가능하게 함"
      ],
      "metadata": {
        "id": "_GAMY4nyJiyI"
      }
    },
    {
      "cell_type": "code",
      "source": [
        "arr1 = np.array([[0,0,0],\n",
        "                 [1,1,1],\n",
        "                 [2,2,2]])\n",
        "arr2 = np.array([[5,6,7]])\n",
        "\n",
        "print(arr1 + arr2)\n",
        "\n",
        "arr1 = np.array([[1,1,1]])\n",
        "arr2 = np.array([[0],\n",
        "                [1],\n",
        "                [2]])\n",
        "\n",
        "print(arr1+arr2)"
      ],
      "metadata": {
        "colab": {
          "base_uri": "https://localhost:8080/"
        },
        "id": "2J_C82R3JNsb",
        "outputId": "ef584223-9f34-4175-90d6-2fe1833255e4"
      },
      "execution_count": 54,
      "outputs": [
        {
          "output_type": "stream",
          "name": "stdout",
          "text": [
            "[[5 6 7]\n",
            " [6 7 8]\n",
            " [7 8 9]]\n",
            "[[1 1 1]\n",
            " [2 2 2]\n",
            " [3 3 3]]\n"
          ]
        }
      ]
    },
    {
      "cell_type": "markdown",
      "source": [
        "[000 567\n",
        "\n",
        "111 567\n",
        "\n",
        "222 567]\n",
        "\n",
        "[111 000\n",
        "\n",
        "111 111\n",
        "\n",
        "111 222]"
      ],
      "metadata": {
        "id": "ItYiTdaQKTXp"
      }
    },
    {
      "cell_type": "markdown",
      "source": [
        "## 3-6. 벡터 연산의 장점 = 개빠름\n"
      ],
      "metadata": {
        "id": "lhq8fRUdLZU9"
      }
    },
    {
      "cell_type": "code",
      "source": [
        "import time"
      ],
      "metadata": {
        "id": "yHvB0X4wLc2J"
      },
      "execution_count": 55,
      "outputs": []
    },
    {
      "cell_type": "code",
      "source": [
        "arr = np.arange(9999999)"
      ],
      "metadata": {
        "id": "82DJZtEfMVuH"
      },
      "execution_count": 56,
      "outputs": []
    },
    {
      "cell_type": "code",
      "source": [
        "# for\n",
        "sum = 0\n",
        "before = time.time()\n",
        "for i in arr:\n",
        "  sum += i\n",
        "after = time.time()\n",
        "print(sum, after - before, \"초\")"
      ],
      "metadata": {
        "colab": {
          "base_uri": "https://localhost:8080/"
        },
        "id": "07YR5ZNeMa29",
        "outputId": "802b6eac-232d-4971-d4d6-f832f20c3a8f"
      },
      "execution_count": 57,
      "outputs": [
        {
          "output_type": "stream",
          "name": "stdout",
          "text": [
            "49999985000001 9.071824312210083 초\n"
          ]
        }
      ]
    },
    {
      "cell_type": "code",
      "source": [
        "# 벡터 연산\n",
        "before = time.time()\n",
        "sum = np.sum(arr)\n",
        "after = time.time()\n",
        "print(sum, after-before, \"초\")"
      ],
      "metadata": {
        "colab": {
          "base_uri": "https://localhost:8080/"
        },
        "id": "nbuHSbxxMpdZ",
        "outputId": "3f1e8777-783c-4fc1-a28b-91b5371d346c"
      },
      "execution_count": 58,
      "outputs": [
        {
          "output_type": "stream",
          "name": "stdout",
          "text": [
            "49999985000001 0.03108501434326172 초\n"
          ]
        }
      ]
    },
    {
      "cell_type": "code",
      "source": [
        "arr1 = np.arange(9999999)\n",
        "arr2 = np.arange(9999999)\n",
        "\n",
        "# for\n",
        "sum = 0\n",
        "before = time.time()\n",
        "for i, j in zip(arr1, arr2):  # zip은 arr1의 x번째 원소와 arr2의 x번째 원소를 묶어서 계산한다\n",
        "  sum += i*j\n",
        "after = time.time()\n",
        "print(sum, after-before, \"초\")"
      ],
      "metadata": {
        "colab": {
          "base_uri": "https://localhost:8080/"
        },
        "id": "mcK1um-dM9OP",
        "outputId": "16de2f7e-8b45-4c97-e895-ea1681fbccec"
      },
      "execution_count": 59,
      "outputs": [
        {
          "output_type": "stream",
          "name": "stderr",
          "text": [
            "<ipython-input-59-5063a659bb96>:8: RuntimeWarning: overflow encountered in scalar add\n",
            "  sum += i*j\n"
          ]
        },
        {
          "output_type": "stream",
          "name": "stdout",
          "text": [
            "1291790006583070911 17.594508409500122 초\n"
          ]
        }
      ]
    },
    {
      "cell_type": "code",
      "source": [
        "# 벡터 연산\n",
        "sum = 0\n",
        "before = time.time()\n",
        "sum = np.dot(arr1, arr2)\n",
        "after = time.time()\n",
        "print(sum, after-before, \"초\")"
      ],
      "metadata": {
        "colab": {
          "base_uri": "https://localhost:8080/"
        },
        "id": "evLNAloGNpc-",
        "outputId": "e67b1498-001e-4dab-9434-09f541d336dc"
      },
      "execution_count": 60,
      "outputs": [
        {
          "output_type": "stream",
          "name": "stdout",
          "text": [
            "1291790006583070911 0.06962728500366211 초\n"
          ]
        }
      ]
    },
    {
      "cell_type": "markdown",
      "source": [
        "# Section 4 - N차원 배열 정렬"
      ],
      "metadata": {
        "id": "PnOPQgEIODBm"
      }
    },
    {
      "cell_type": "markdown",
      "source": [
        "## 4-1. 1차원 배열의 정렬"
      ],
      "metadata": {
        "id": "zeruaGc4OIi_"
      }
    },
    {
      "cell_type": "code",
      "source": [
        "arr = np.random.randint(10, size=10)\n",
        "print(arr)"
      ],
      "metadata": {
        "colab": {
          "base_uri": "https://localhost:8080/"
        },
        "id": "NpkUla0VOG9j",
        "outputId": "0108495f-2f82-4c49-b752-750fb3805dfe"
      },
      "execution_count": 61,
      "outputs": [
        {
          "output_type": "stream",
          "name": "stdout",
          "text": [
            "[4 3 0 4 6 8 1 8 4 1]\n"
          ]
        }
      ]
    },
    {
      "cell_type": "code",
      "source": [
        "print(np.sort(arr))\n",
        "print(np.sort(arr)[::-1])"
      ],
      "metadata": {
        "colab": {
          "base_uri": "https://localhost:8080/"
        },
        "id": "lnLTmn9uSFNH",
        "outputId": "9b990b38-492c-4c0a-9c38-889d2241cc2c"
      },
      "execution_count": 62,
      "outputs": [
        {
          "output_type": "stream",
          "name": "stdout",
          "text": [
            "[0 1 1 3 4 4 4 6 8 8]\n",
            "[8 8 6 4 4 4 3 1 1 0]\n"
          ]
        }
      ]
    },
    {
      "cell_type": "code",
      "source": [
        "arr.sort()\n",
        "print(arr)"
      ],
      "metadata": {
        "colab": {
          "base_uri": "https://localhost:8080/"
        },
        "id": "06UOWDkCSNyi",
        "outputId": "f496ecba-44fc-44ae-e2f1-d5a5768c2dc6"
      },
      "execution_count": 63,
      "outputs": [
        {
          "output_type": "stream",
          "name": "stdout",
          "text": [
            "[0 1 1 3 4 4 4 6 8 8]\n"
          ]
        }
      ]
    },
    {
      "cell_type": "code",
      "source": [
        "arr = np.sort(arr)\n",
        "print(arr)"
      ],
      "metadata": {
        "colab": {
          "base_uri": "https://localhost:8080/"
        },
        "id": "2bHR-Eq7SqKr",
        "outputId": "f5bb14db-ba5b-4c40-8100-8629d1bb3852"
      },
      "execution_count": 64,
      "outputs": [
        {
          "output_type": "stream",
          "name": "stdout",
          "text": [
            "[0 1 1 3 4 4 4 6 8 8]\n"
          ]
        }
      ]
    },
    {
      "cell_type": "markdown",
      "source": [
        "## 4-2. 2차원 배열의 정렬"
      ],
      "metadata": {
        "id": "yiwdqj8iS8g4"
      }
    },
    {
      "cell_type": "code",
      "source": [
        "arr = np.random.randint(15, size=(3,4))\n",
        "print(arr)\n",
        "\n",
        "print(np.sort(arr, axis=0))\n",
        "print(np.sort(arr, axis=1))\n",
        "print(np.sort(arr, axis=None))"
      ],
      "metadata": {
        "colab": {
          "base_uri": "https://localhost:8080/"
        },
        "id": "MJ0zimzvS_Qm",
        "outputId": "dcffcd44-cbca-469a-fcf5-84c3909744ec"
      },
      "execution_count": 65,
      "outputs": [
        {
          "output_type": "stream",
          "name": "stdout",
          "text": [
            "[[ 3  6 13  5]\n",
            " [13  3  9 14]\n",
            " [13 12  6 14]]\n",
            "[[ 3  3  6  5]\n",
            " [13  6  9 14]\n",
            " [13 12 13 14]]\n",
            "[[ 3  5  6 13]\n",
            " [ 3  9 13 14]\n",
            " [ 6 12 13 14]]\n",
            "[ 3  3  5  6  6  9 12 13 13 13 14 14]\n"
          ]
        }
      ]
    },
    {
      "cell_type": "code",
      "source": [
        "# argsort()   원래 배열에서의 index값 반환\n",
        "arr = np.random.randint(15, size=(3,4))\n",
        "print(arr)"
      ],
      "metadata": {
        "colab": {
          "base_uri": "https://localhost:8080/"
        },
        "id": "P9SXINsNTi9O",
        "outputId": "fecdcccc-d171-403c-d147-094d956b03d0"
      },
      "execution_count": 66,
      "outputs": [
        {
          "output_type": "stream",
          "name": "stdout",
          "text": [
            "[[14  9 12  1]\n",
            " [ 9  4 11  2]\n",
            " [13 13  6  7]]\n"
          ]
        }
      ]
    },
    {
      "cell_type": "code",
      "source": [
        "print(np.sort(arr, axis=0))\n",
        "print(np.argsort(arr, axis=0))"
      ],
      "metadata": {
        "colab": {
          "base_uri": "https://localhost:8080/"
        },
        "id": "jTE5IQfVTp_4",
        "outputId": "662717dd-7108-4471-cf26-d35516cd0a68"
      },
      "execution_count": 67,
      "outputs": [
        {
          "output_type": "stream",
          "name": "stdout",
          "text": [
            "[[ 9  4  6  1]\n",
            " [13  9 11  2]\n",
            " [14 13 12  7]]\n",
            "[[1 1 2 0]\n",
            " [2 0 1 1]\n",
            " [0 2 0 2]]\n"
          ]
        }
      ]
    },
    {
      "cell_type": "code",
      "source": [
        "print(np.sort(arr, axis=1))\n",
        "print(np.argsort(arr, axis=1))"
      ],
      "metadata": {
        "colab": {
          "base_uri": "https://localhost:8080/"
        },
        "id": "gtjcEYuXVn0b",
        "outputId": "4acabaea-5ac2-4df1-8ee5-2c61440b9777"
      },
      "execution_count": 68,
      "outputs": [
        {
          "output_type": "stream",
          "name": "stdout",
          "text": [
            "[[ 1  9 12 14]\n",
            " [ 2  4  9 11]\n",
            " [ 6  7 13 13]]\n",
            "[[3 1 2 0]\n",
            " [3 1 0 2]\n",
            " [2 3 0 1]]\n"
          ]
        }
      ]
    },
    {
      "cell_type": "markdown",
      "source": [
        "# Section 5 - N차원 배열의 형태 변경"
      ],
      "metadata": {
        "id": "FVUFj2gEWVkD"
      }
    },
    {
      "cell_type": "markdown",
      "source": [
        "## 5-1. 배열의 형태 변경 1: reshape()"
      ],
      "metadata": {
        "id": "bwM_aa9IYWAH"
      }
    },
    {
      "cell_type": "markdown",
      "source": [
        "-- Curse of Dimensionality 차원의 저주 --\n",
        "\n",
        "빅데이터를 다루거나 딥러닝에서 발생할 수 있음.\n",
        "\n",
        "차원이 증가할수록 학습 데이터 수가 차원의 수보다 적어지면서 모델의 성능이 저하됨."
      ],
      "metadata": {
        "id": "Lh0OGmzsY6oe"
      }
    },
    {
      "cell_type": "code",
      "source": [
        "arr = np.arange(12)\n",
        "print(arr, arr.ndim)\n",
        "\n",
        "arr = arr.reshape((3,4))\n",
        "print(arr, arr.ndim)\n",
        "\n",
        "arr = arr.reshape((2,3,2))\n",
        "print(arr, arr.ndim)\n",
        "\n",
        "arr = arr.reshape((2,2,1,3))\n",
        "print(arr, arr.ndim)"
      ],
      "metadata": {
        "colab": {
          "base_uri": "https://localhost:8080/"
        },
        "id": "uGwCZ4iPWbh7",
        "outputId": "31214434-47ae-413e-9bdb-24531890e251"
      },
      "execution_count": 69,
      "outputs": [
        {
          "output_type": "stream",
          "name": "stdout",
          "text": [
            "[ 0  1  2  3  4  5  6  7  8  9 10 11] 1\n",
            "[[ 0  1  2  3]\n",
            " [ 4  5  6  7]\n",
            " [ 8  9 10 11]] 2\n",
            "[[[ 0  1]\n",
            "  [ 2  3]\n",
            "  [ 4  5]]\n",
            "\n",
            " [[ 6  7]\n",
            "  [ 8  9]\n",
            "  [10 11]]] 3\n",
            "[[[[ 0  1  2]]\n",
            "\n",
            "  [[ 3  4  5]]]\n",
            "\n",
            "\n",
            " [[[ 6  7  8]]\n",
            "\n",
            "  [[ 9 10 11]]]] 4\n"
          ]
        }
      ]
    },
    {
      "cell_type": "code",
      "source": [
        "arr = np.arange(1,13)\n",
        "print(arr)\n",
        "\n",
        "arr = arr.reshape(3, -1)      # -1에 4가 자동으로 들어감\n",
        "print(arr)\n",
        "\n",
        "arr = arr.reshape(3,2,-1)    # -1에 2가 자동으로 들어감\n",
        "print(arr)\n",
        "\n",
        "arr = arr.reshape(3,-1,-1)   # Error 불가능\n",
        "print(arr)\n"
      ],
      "metadata": {
        "colab": {
          "base_uri": "https://localhost:8080/",
          "height": 418
        },
        "id": "7JQg1Oimb07A",
        "outputId": "eedd65d2-1f25-404a-b754-a40a58763f91"
      },
      "execution_count": 70,
      "outputs": [
        {
          "output_type": "stream",
          "name": "stdout",
          "text": [
            "[ 1  2  3  4  5  6  7  8  9 10 11 12]\n",
            "[[ 1  2  3  4]\n",
            " [ 5  6  7  8]\n",
            " [ 9 10 11 12]]\n",
            "[[[ 1  2]\n",
            "  [ 3  4]]\n",
            "\n",
            " [[ 5  6]\n",
            "  [ 7  8]]\n",
            "\n",
            " [[ 9 10]\n",
            "  [11 12]]]\n"
          ]
        },
        {
          "output_type": "error",
          "ename": "ValueError",
          "evalue": "can only specify one unknown dimension",
          "traceback": [
            "\u001b[0;31m---------------------------------------------------------------------------\u001b[0m",
            "\u001b[0;31mValueError\u001b[0m                                Traceback (most recent call last)",
            "\u001b[0;32m<ipython-input-70-79ac974535f1>\u001b[0m in \u001b[0;36m<cell line: 10>\u001b[0;34m()\u001b[0m\n\u001b[1;32m      8\u001b[0m \u001b[0mprint\u001b[0m\u001b[0;34m(\u001b[0m\u001b[0marr\u001b[0m\u001b[0;34m)\u001b[0m\u001b[0;34m\u001b[0m\u001b[0;34m\u001b[0m\u001b[0m\n\u001b[1;32m      9\u001b[0m \u001b[0;34m\u001b[0m\u001b[0m\n\u001b[0;32m---> 10\u001b[0;31m \u001b[0marr\u001b[0m \u001b[0;34m=\u001b[0m \u001b[0marr\u001b[0m\u001b[0;34m.\u001b[0m\u001b[0mreshape\u001b[0m\u001b[0;34m(\u001b[0m\u001b[0;36m3\u001b[0m\u001b[0;34m,\u001b[0m\u001b[0;34m-\u001b[0m\u001b[0;36m1\u001b[0m\u001b[0;34m,\u001b[0m\u001b[0;34m-\u001b[0m\u001b[0;36m1\u001b[0m\u001b[0;34m)\u001b[0m   \u001b[0;31m# Error 불가능\u001b[0m\u001b[0;34m\u001b[0m\u001b[0;34m\u001b[0m\u001b[0m\n\u001b[0m\u001b[1;32m     11\u001b[0m \u001b[0mprint\u001b[0m\u001b[0;34m(\u001b[0m\u001b[0marr\u001b[0m\u001b[0;34m)\u001b[0m\u001b[0;34m\u001b[0m\u001b[0;34m\u001b[0m\u001b[0m\n",
            "\u001b[0;31mValueError\u001b[0m: can only specify one unknown dimension"
          ]
        }
      ]
    },
    {
      "cell_type": "markdown",
      "source": [
        "## 5-2. 배열의 형태 변경2: resize(), ravel()"
      ],
      "metadata": {
        "id": "WkHOfHTuZaIl"
      }
    },
    {
      "cell_type": "code",
      "source": [
        "arr = np.arange(12)\n",
        "print(arr)"
      ],
      "metadata": {
        "id": "Mmgy9z27ZePr",
        "colab": {
          "base_uri": "https://localhost:8080/"
        },
        "outputId": "aa7c5f04-0442-4fa3-9d79-5b3e740760fd"
      },
      "execution_count": 71,
      "outputs": [
        {
          "output_type": "stream",
          "name": "stdout",
          "text": [
            "[ 0  1  2  3  4  5  6  7  8  9 10 11]\n"
          ]
        }
      ]
    },
    {
      "cell_type": "code",
      "source": [
        "# resize함수는 reshape과 동일하지만 원본 데이터를 변경시킨다는 차이점이 있음.\n",
        "arr.resize(3,4)\n",
        "print(arr)\n",
        "\n",
        "arr = arr.ravel()\n",
        "print(arr)"
      ],
      "metadata": {
        "colab": {
          "base_uri": "https://localhost:8080/"
        },
        "id": "a6WByIu3cZ-K",
        "outputId": "7c9d6517-3f87-40d4-9ed2-e2fe2b1589e2"
      },
      "execution_count": 72,
      "outputs": [
        {
          "output_type": "stream",
          "name": "stdout",
          "text": [
            "[[ 0  1  2  3]\n",
            " [ 4  5  6  7]\n",
            " [ 8  9 10 11]]\n",
            "[ 0  1  2  3  4  5  6  7  8  9 10 11]\n"
          ]
        }
      ]
    },
    {
      "cell_type": "markdown",
      "source": [
        "## 5-3. 배열의 형태 변경 3: expand_dims(), sequeeze()"
      ],
      "metadata": {
        "id": "ivjd6nXdc2_1"
      }
    },
    {
      "cell_type": "code",
      "source": [
        "# expand_dims()   차원을 추가하는 함수\n",
        "arr = np.array([1,2,3])\n",
        "print(arr, arr.shape)\n",
        "\n",
        "arr = np.expand_dims(arr, axis=0)   # row 행\n",
        "print(arr, arr.shape)\n",
        "\n",
        "arr = np.array([1,2,3])\n",
        "arr = np.expand_dims(arr, axis=1)   # column 열\n",
        "print(arr, arr.shape)"
      ],
      "metadata": {
        "colab": {
          "base_uri": "https://localhost:8080/"
        },
        "id": "AtAtsXX3c9bj",
        "outputId": "81cdd445-2dd5-431a-9e1b-814e6f957287"
      },
      "execution_count": 78,
      "outputs": [
        {
          "output_type": "stream",
          "name": "stdout",
          "text": [
            "[1 2 3] (3,)\n",
            "[[1 2 3]] (1, 3)\n",
            "[[1]\n",
            " [2]\n",
            " [3]] (3, 1)\n"
          ]
        }
      ]
    },
    {
      "cell_type": "code",
      "source": [],
      "metadata": {
        "colab": {
          "base_uri": "https://localhost:8080/"
        },
        "id": "dQWqzDHYgv3r",
        "outputId": "26e2bf16-6d99-4f22-d307-74ca3bf58e19"
      },
      "execution_count": 79,
      "outputs": [
        {
          "output_type": "stream",
          "name": "stdout",
          "text": [
            "fatal: not a git repository (or any of the parent directories): .git\n"
          ]
        }
      ]
    }
  ]
}