{
  "nbformat": 4,
  "nbformat_minor": 0,
  "metadata": {
    "colab": {
      "provenance": [],
      "authorship_tag": "ABX9TyNNCJNXdvZtjjRGLXyREkeN",
      "include_colab_link": true
    },
    "kernelspec": {
      "name": "python3",
      "display_name": "Python 3"
    },
    "language_info": {
      "name": "python"
    }
  },
  "cells": [
    {
      "cell_type": "markdown",
      "metadata": {
        "id": "view-in-github",
        "colab_type": "text"
      },
      "source": [
        "<a href=\"https://colab.research.google.com/github/kimEHwoo/Numpy_2024/blob/main/numpy.ipynb\" target=\"_parent\"><img src=\"https://colab.research.google.com/assets/colab-badge.svg\" alt=\"Open In Colab\"/></a>"
      ]
    },
    {
      "cell_type": "code",
      "source": [
        "import numpy as np"
      ],
      "metadata": {
        "id": "qLpEm_bh457r"
      },
      "execution_count": 187,
      "outputs": []
    },
    {
      "cell_type": "code",
      "source": [
        "import matplotlib.pyplot as plt"
      ],
      "metadata": {
        "id": "4uZMQrUOKow-"
      },
      "execution_count": 188,
      "outputs": []
    },
    {
      "cell_type": "markdown",
      "source": [
        "# Section 1. N차원 배열 생성"
      ],
      "metadata": {
        "id": "dsiLntzc86-s"
      }
    },
    {
      "cell_type": "markdown",
      "source": [
        "## 1-1. N차원 배열 생성하기"
      ],
      "metadata": {
        "id": "xFUbkeIEPw46"
      }
    },
    {
      "cell_type": "code",
      "source": [
        "# 1차원 배열\n",
        "arr = np.array([1,2,3])\n",
        "print(arr)\n",
        "\n",
        "# 2차원 배열\n",
        "arr = np.array([[1,2,3,],\n",
        " [4,5,6]])\n",
        "print(arr)"
      ],
      "metadata": {
        "id": "C1nkmrFP60ZT",
        "colab": {
          "base_uri": "https://localhost:8080/"
        },
        "outputId": "2fd5ef55-3882-4228-d0a9-e68f1271ecf3"
      },
      "execution_count": 189,
      "outputs": [
        {
          "output_type": "stream",
          "name": "stdout",
          "text": [
            "[1 2 3]\n",
            "[[1 2 3]\n",
            " [4 5 6]]\n"
          ]
        }
      ]
    },
    {
      "cell_type": "code",
      "source": [
        "type([1,2,3])"
      ],
      "metadata": {
        "colab": {
          "base_uri": "https://localhost:8080/"
        },
        "id": "wkDWLjlUEopL",
        "outputId": "ede5a08a-3678-46bf-b295-f983c298d41e"
      },
      "execution_count": 190,
      "outputs": [
        {
          "output_type": "execute_result",
          "data": {
            "text/plain": [
              "list"
            ]
          },
          "metadata": {},
          "execution_count": 190
        }
      ]
    },
    {
      "cell_type": "code",
      "source": [
        "type(arr)"
      ],
      "metadata": {
        "colab": {
          "base_uri": "https://localhost:8080/"
        },
        "id": "TKFyEvVIIFXA",
        "outputId": "11cd762f-ae5c-4bb9-94e7-7c39232ca23e"
      },
      "execution_count": 191,
      "outputs": [
        {
          "output_type": "execute_result",
          "data": {
            "text/plain": [
              "numpy.ndarray"
            ]
          },
          "metadata": {},
          "execution_count": 191
        }
      ]
    },
    {
      "cell_type": "code",
      "source": [
        "tpl = (4,5,6)\n",
        "arr = np.array(tpl)\n",
        "print(arr)\n",
        "\n",
        "lst2 = [[1,2,3],[4,5,6]]\n",
        "arr2 = np.array(lst2)\n",
        "print(arr2)"
      ],
      "metadata": {
        "colab": {
          "base_uri": "https://localhost:8080/"
        },
        "id": "aFGVXrbiIK-c",
        "outputId": "a84f76d5-7c8d-4e6e-c616-b9f1d46e9b0e"
      },
      "execution_count": 192,
      "outputs": [
        {
          "output_type": "stream",
          "name": "stdout",
          "text": [
            "[4 5 6]\n",
            "[[1 2 3]\n",
            " [4 5 6]]\n"
          ]
        }
      ]
    },
    {
      "cell_type": "code",
      "source": [
        "# shape\n",
        "arr1 = np.array([1,2,3])\n",
        "arr2 = np.array([[1,2,3,], [4,5,6]])\n",
        "\n",
        "print(arr1.shape, arr2.shape)\n",
        "\n",
        "# ndim\n",
        "print(arr1.ndim, arr2.ndim)\n",
        "\n",
        "# size\n",
        "print(arr1.size, arr2.size)"
      ],
      "metadata": {
        "colab": {
          "base_uri": "https://localhost:8080/"
        },
        "id": "DVr9AYy-JDg8",
        "outputId": "361b03af-2155-44af-baab-3086fdc591a3"
      },
      "execution_count": 193,
      "outputs": [
        {
          "output_type": "stream",
          "name": "stdout",
          "text": [
            "(3,) (2, 3)\n",
            "1 2\n",
            "3 6\n"
          ]
        }
      ]
    },
    {
      "cell_type": "markdown",
      "source": [
        "## 1-2. N차원 배열의 데이터 타입"
      ],
      "metadata": {
        "id": "XAldkL1_KZEO"
      }
    },
    {
      "cell_type": "code",
      "source": [
        "arr = np.array([1, 2, 3], dtype=float)\n",
        "print(arr, arr.dtype)\n",
        "\n",
        "arr = np.array([1.1, 2.2, 3.3], dtype=int)\n",
        "print(arr, arr.dtype)\n",
        "\n",
        "arr= np.array([0,1,1], dtype=bool)\n",
        "print(arr, arr.dtype)"
      ],
      "metadata": {
        "colab": {
          "base_uri": "https://localhost:8080/"
        },
        "id": "rOyAJ2aVL-_2",
        "outputId": "e48d02a8-109a-49bf-e93a-d77f111bdd0b"
      },
      "execution_count": 194,
      "outputs": [
        {
          "output_type": "stream",
          "name": "stdout",
          "text": [
            "[1. 2. 3.] float64\n",
            "[1 2 3] int64\n",
            "[False  True  True] bool\n"
          ]
        }
      ]
    },
    {
      "cell_type": "code",
      "source": [
        "arr = np.array([0,1,2,3])\n",
        "print(arr, arr.dtype)\n",
        "\n",
        "arr = arr.astype(np.float32)\n",
        "print(arr, arr.dtype)"
      ],
      "metadata": {
        "colab": {
          "base_uri": "https://localhost:8080/"
        },
        "id": "_uPFr6bBNxWV",
        "outputId": "a9023dd3-d901-4bb8-e9cf-58f724f3d7c8"
      },
      "execution_count": 195,
      "outputs": [
        {
          "output_type": "stream",
          "name": "stdout",
          "text": [
            "[0 1 2 3] int64\n",
            "[0. 1. 2. 3.] float32\n"
          ]
        }
      ]
    },
    {
      "cell_type": "code",
      "source": [
        "arr = np.array([1, 2, 3.4])\n",
        "print(arr, arr.dtype)\n",
        "\n",
        "arr = np.array([1,2,3.4, \"64\"])\n",
        "print(arr, arr.dtype)\n",
        "\n",
        "arr = np.array([1,2,3.4, \"64\"], dtype = int)\n",
        "print(arr, arr.dtype)\n",
        "\n",
        "# arr = np.array([1,2,3.4, \"64\", \"문자열\"], dtype=int)\n",
        "# print(arr, arr.dtype)"
      ],
      "metadata": {
        "colab": {
          "base_uri": "https://localhost:8080/"
        },
        "id": "SQfnOFY6sZWO",
        "outputId": "2a84227c-6852-479a-a1fc-a374f5f5b063"
      },
      "execution_count": 196,
      "outputs": [
        {
          "output_type": "stream",
          "name": "stdout",
          "text": [
            "[1.  2.  3.4] float64\n",
            "['1' '2' '3.4' '64'] <U32\n",
            "[ 1  2  3 64] int64\n"
          ]
        }
      ]
    },
    {
      "cell_type": "markdown",
      "source": [
        "## 1-3. 정해진 형식의 N차원 배열 생성하기"
      ],
      "metadata": {
        "id": "RcqOeIshKS5_"
      }
    },
    {
      "cell_type": "code",
      "source": [
        "# np.zeros()\n",
        "arr = np.zeros([2,2])\n",
        "print(arr)\n",
        "\n",
        "# np.ones()\n",
        "arr = np.ones([3, 5])\n",
        "print(arr)\n",
        "\n",
        "# np.full()\n",
        "arr = np.full((2,3), 5)\n",
        "print(arr)\n",
        "\n",
        "# np.eye()\n",
        "arr = np.eye(3,4, k=0)\n",
        "print(arr)\n",
        "\n",
        "arr = np.eye(3,4, k=1)\n",
        "print(arr)"
      ],
      "metadata": {
        "colab": {
          "base_uri": "https://localhost:8080/"
        },
        "id": "Td-MDpV4BFij",
        "outputId": "fedacd42-f4e0-433c-df4c-73893dac3f05"
      },
      "execution_count": 197,
      "outputs": [
        {
          "output_type": "stream",
          "name": "stdout",
          "text": [
            "[[0. 0.]\n",
            " [0. 0.]]\n",
            "[[1. 1. 1. 1. 1.]\n",
            " [1. 1. 1. 1. 1.]\n",
            " [1. 1. 1. 1. 1.]]\n",
            "[[5 5 5]\n",
            " [5 5 5]]\n",
            "[[1. 0. 0. 0.]\n",
            " [0. 1. 0. 0.]\n",
            " [0. 0. 1. 0.]]\n",
            "[[0. 1. 0. 0.]\n",
            " [0. 0. 1. 0.]\n",
            " [0. 0. 0. 1.]]\n"
          ]
        }
      ]
    },
    {
      "cell_type": "code",
      "source": [
        "arr = np.array([[1,2,3],\n",
        " [4,5,6]])\n",
        "\n",
        "# np.zeros_like()\n",
        "arr_z = np.zeros_like(arr)\n",
        "print(arr_z)\n",
        "\n",
        "# np.ones_like()\n",
        "arr_o = np.ones_like(arr)\n",
        "print(arr_o)\n",
        "\n",
        "# np.full_like()\n",
        "arr_f = np.full_like(arr, 9)\n",
        "print(arr_f)"
      ],
      "metadata": {
        "colab": {
          "base_uri": "https://localhost:8080/"
        },
        "id": "Ec3BhIH0_CsG",
        "outputId": "6e540971-1e53-4a13-b7f2-0d9280dd8d46"
      },
      "execution_count": 198,
      "outputs": [
        {
          "output_type": "stream",
          "name": "stdout",
          "text": [
            "[[0 0 0]\n",
            " [0 0 0]]\n",
            "[[1 1 1]\n",
            " [1 1 1]]\n",
            "[[9 9 9]\n",
            " [9 9 9]]\n"
          ]
        }
      ]
    },
    {
      "cell_type": "markdown",
      "source": [
        "## 1-4. 특정 범위의 값을 가지는 N차원 배열 생성하기"
      ],
      "metadata": {
        "id": "KyhO0O33KaCa"
      }
    },
    {
      "cell_type": "code",
      "source": [
        "lst = list(range(0, 9, 2))\n",
        "print(lst)"
      ],
      "metadata": {
        "colab": {
          "base_uri": "https://localhost:8080/"
        },
        "id": "cA1lq-fIBEeM",
        "outputId": "059f67a2-e4a1-4fc4-8c07-43803d2cdee9"
      },
      "execution_count": 199,
      "outputs": [
        {
          "output_type": "stream",
          "name": "stdout",
          "text": [
            "[0, 2, 4, 6, 8]\n"
          ]
        }
      ]
    },
    {
      "cell_type": "code",
      "source": [
        "arr = np.arange(9)\n",
        "print(arr)\n",
        "arr = np.arange(0, 9, 2)\n",
        "print(arr)\n",
        "arr = np.arange(step=2, stop=9, start=0)\n",
        "print(arr)"
      ],
      "metadata": {
        "colab": {
          "base_uri": "https://localhost:8080/"
        },
        "id": "D1J8fZCjBCWI",
        "outputId": "2be19dbd-e7c0-4a32-ae57-5dad181e5bac"
      },
      "execution_count": 200,
      "outputs": [
        {
          "output_type": "stream",
          "name": "stdout",
          "text": [
            "[0 1 2 3 4 5 6 7 8]\n",
            "[0 2 4 6 8]\n",
            "[0 2 4 6 8]\n"
          ]
        }
      ]
    },
    {
      "cell_type": "code",
      "source": [
        "# np.logspace()\n",
        "\n",
        "arr = np.linspace(1, 10, 10)    # 1부터 10까지 10개로 동일한 간격으로 쪼갬\n",
        "print(arr)\n",
        "\n",
        "arr = np.logspace(1, 10, 10, base=2)\n",
        "print(arr)\n",
        "\n",
        "arr = np.logspace(1, 10, 4, base = 2)   # 2^1, 2^4, 2^7, 2^10\n",
        "print(arr)\n",
        "\n",
        "arr = np.logspace(1, 10, 10)\n",
        "print(arr)"
      ],
      "metadata": {
        "colab": {
          "base_uri": "https://localhost:8080/"
        },
        "id": "P4JUvORQEQ9U",
        "outputId": "44d2b32d-cf3b-4697-a36e-4f58c2ed2c45"
      },
      "execution_count": 201,
      "outputs": [
        {
          "output_type": "stream",
          "name": "stdout",
          "text": [
            "[ 1.  2.  3.  4.  5.  6.  7.  8.  9. 10.]\n",
            "[   2.    4.    8.   16.   32.   64.  128.  256.  512. 1024.]\n",
            "[   2.   16.  128. 1024.]\n",
            "[1.e+01 1.e+02 1.e+03 1.e+04 1.e+05 1.e+06 1.e+07 1.e+08 1.e+09 1.e+10]\n"
          ]
        }
      ]
    },
    {
      "cell_type": "markdown",
      "source": [
        "## 1-5. 난수로 N차원 배열 생성하기"
      ],
      "metadata": {
        "id": "aAwL6bCuKhbo"
      }
    },
    {
      "cell_type": "code",
      "source": [
        "# np.random.normal()\n",
        "# (정규분포의 평균, 표준편차, 표본 개수))\n",
        "\n",
        "arr = np.random.normal(0,1,10)\n",
        "print(arr)\n",
        "arr = np.random.normal(0, 1, (2,3))\n",
        "print(arr)"
      ],
      "metadata": {
        "colab": {
          "base_uri": "https://localhost:8080/"
        },
        "id": "WV8V4fTaKflW",
        "outputId": "a43d4993-6f5c-4cb4-f075-1cd4b61232d5"
      },
      "execution_count": 202,
      "outputs": [
        {
          "output_type": "stream",
          "name": "stdout",
          "text": [
            "[ 0.26551159  0.10854853  0.00429143 -0.17460021  0.43302619  1.20303737\n",
            " -0.96506567  1.02827408  0.22863013  0.44513761]\n",
            "[[-1.13660221  0.13513688  1.484537  ]\n",
            " [-1.07980489 -1.97772828 -1.7433723 ]]\n"
          ]
        }
      ]
    },
    {
      "cell_type": "code",
      "source": [
        "arr = np.random.normal(0,1,10000) # 표본의 개수가 많아질수록 정규분포에 가까워진다\n",
        "plt.hist(arr, bins=100)     # 난수를 100개의 구간으로\n",
        "plt.show()"
      ],
      "metadata": {
        "colab": {
          "base_uri": "https://localhost:8080/",
          "height": 0
        },
        "id": "cRgj-LeSL3iH",
        "outputId": "aaef33a3-2d07-48f1-f887-399eaab822a6"
      },
      "execution_count": 203,
      "outputs": [
        {
          "output_type": "display_data",
          "data": {
            "text/plain": [
              "<Figure size 640x480 with 1 Axes>"
            ],
            "image/png": "[encoded data removed]"
          },
          "metadata": {}
        }
      ]
    },
    {
      "cell_type": "code",
      "source": [
        "# np.random.rand(표본개수)\n",
        "# 0에서 1 사이의 값을 균등한 비율로 표본을 추출하는 함수\n",
        "\n",
        "arr = np.random.rand(1000)\n",
        "plt.hist(arr, bins=100)\n",
        "plt.show()"
      ],
      "metadata": {
        "colab": {
          "base_uri": "https://localhost:8080/",
          "height": 0
        },
        "id": "8i69hzNrMZbV",
        "outputId": "1a48dd69-d21b-483e-a454-77e277fa7a1a"
      },
      "execution_count": 204,
      "outputs": [
        {
          "output_type": "display_data",
          "data": {
            "text/plain": [
              "<Figure size 640x480 with 1 Axes>"
            ],
            "image/png": "[encoded data removed]"
          },
          "metadata": {}
        }
      ]
    },
    {
      "cell_type": "code",
      "source": [
        "# np.random.randn(표본개수)\n",
        "# -1 부터 +1 사이의 값을 정규분포 표본을 추출하는 함수\n",
        "\n",
        "arr = np.random.randn(1000)\n",
        "plt.hist(arr, bins=100)\n",
        "plt.show()"
      ],
      "metadata": {
        "colab": {
          "base_uri": "https://localhost:8080/",
          "height": 0
        },
        "id": "Alv11OR9M6JR",
        "outputId": "bdb706fb-1f12-41be-902b-777d4c1d58f2"
      },
      "execution_count": 205,
      "outputs": [
        {
          "output_type": "display_data",
          "data": {
            "text/plain": [
              "<Figure size 640x480 with 1 Axes>"
            ],
            "image/png": "[encoded data removed]"
          },
          "metadata": {}
        }
      ]
    },
    {
      "cell_type": "code",
      "source": [
        "# np.random.randint()\n",
        "# 랜덤한 정수만 출력하는 함수\n",
        "\n",
        "arr = np.random.randint(low=1, high=5, size=10)\n",
        "print(arr)\n",
        "\n",
        "arr = np.random.randint(low=1,high=10, size=(2,3))\n",
        "print(arr)\n",
        "\n",
        "arr = np.random.randint(5)  # high가 5, 5까지의 숫자 중 하나 추출\n",
        "print(arr)"
      ],
      "metadata": {
        "colab": {
          "base_uri": "https://localhost:8080/"
        },
        "id": "gjsMe-C8NSMG",
        "outputId": "9e5f0a7e-81f3-4baf-9db7-3eeec769ee0b"
      },
      "execution_count": 206,
      "outputs": [
        {
          "output_type": "stream",
          "name": "stdout",
          "text": [
            "[2 1 3 2 1 3 3 4 2 2]\n",
            "[[6 4 5]\n",
            " [2 4 2]]\n",
            "0\n"
          ]
        }
      ]
    },
    {
      "cell_type": "code",
      "source": [
        "arr = np.random.randint(100, 200, 1000)\n",
        "plt.hist(arr, bins=100)\n",
        "plt.show()"
      ],
      "metadata": {
        "colab": {
          "base_uri": "https://localhost:8080/",
          "height": 0
        },
        "id": "a2Io89rJNfJM",
        "outputId": "d4231e22-fffe-47f7-d76f-3217c12a9faf"
      },
      "execution_count": 207,
      "outputs": [
        {
          "output_type": "display_data",
          "data": {
            "text/plain": [
              "<Figure size 640x480 with 1 Axes>"
            ],
            "image/png": "[encoded data removed]"
          },
          "metadata": {}
        }
      ]
    },
    {
      "cell_type": "markdown",
      "source": [
        "## 1-6. 시드(seed)값을 통한 난수 생성 제어"
      ],
      "metadata": {
        "id": "jQiiiSjtOWLz"
      }
    },
    {
      "cell_type": "code",
      "source": [
        "arr = np.random.rand(10)\n",
        "print(\"난수 발생1 \\n\", arr)\n",
        "\n",
        "arr = np.random.rand(10)\n",
        "print(\"난수 발생 \\n\", arr)"
      ],
      "metadata": {
        "colab": {
          "base_uri": "https://localhost:8080/"
        },
        "id": "NECMBS-dORnO",
        "outputId": "d06f4535-c197-48ac-d7bf-4172550043ee"
      },
      "execution_count": 208,
      "outputs": [
        {
          "output_type": "stream",
          "name": "stdout",
          "text": [
            "난수 발생1 \n",
            " [0.22480701 0.75871271 0.75064098 0.62629189 0.24405486 0.64870465\n",
            " 0.16198839 0.06666918 0.63226404 0.30044923]\n",
            "난수 발생 \n",
            " [0.69723997 0.47165371 0.95646256 0.82628365 0.46261449 0.12972028\n",
            " 0.18888329 0.0263025  0.17553282 0.43837083]\n"
          ]
        }
      ]
    },
    {
      "cell_type": "code",
      "source": [
        "# 난수를 동일하게 하고 싶을 때\n",
        "\n",
        "np.random.seed(10)\n",
        "arr = np.random.rand(10)\n",
        "print(\"난수 발생1 \\n\", arr)\n",
        "\n",
        "np.random.seed(10)\n",
        "arr = np.random.rand(10)\n",
        "print(\"난수 발생2 \\n\", arr)"
      ],
      "metadata": {
        "colab": {
          "base_uri": "https://localhost:8080/"
        },
        "id": "xJ0wyDK2PDLR",
        "outputId": "7df9fb64-72cf-48a0-fc3d-26dc729f7c92"
      },
      "execution_count": 209,
      "outputs": [
        {
          "output_type": "stream",
          "name": "stdout",
          "text": [
            "난수 발생1 \n",
            " [0.77132064 0.02075195 0.63364823 0.74880388 0.49850701 0.22479665\n",
            " 0.19806286 0.76053071 0.16911084 0.08833981]\n",
            "난수 발생2 \n",
            " [0.77132064 0.02075195 0.63364823 0.74880388 0.49850701 0.22479665\n",
            " 0.19806286 0.76053071 0.16911084 0.08833981]\n"
          ]
        }
      ]
    },
    {
      "cell_type": "code",
      "source": [],
      "metadata": {
        "id": "02Hw-0z-Poyv"
      },
      "execution_count": 209,
      "outputs": []
    },
    {
      "cell_type": "markdown",
      "source": [
        "# Section 3. N차원 배열의 인덱싱"
      ],
      "metadata": {
        "id": "cXmjxFoZP3tq"
      }
    },
    {
      "cell_type": "markdown",
      "source": [
        "## 2-1. 배열의 index 접근하기"
      ],
      "metadata": {
        "id": "H-3Y3sLcQHhI"
      }
    },
    {
      "cell_type": "code",
      "source": [
        "# 1차원 배열\n",
        "arr = np.array([0,1,2,3,4,5,6,7,8,9])\n",
        "arr = np.arange(10)\n",
        "print(arr)\n",
        "\n",
        "print(arr[3])\n",
        "print(arr[1])\n",
        "print(arr[9])\n",
        "print(arr[-1])\n",
        "print(arr[-3])\n",
        "print(arr[-10])"
      ],
      "metadata": {
        "colab": {
          "base_uri": "https://localhost:8080/"
        },
        "id": "3rRanT75QPAe",
        "outputId": "610c00b2-c71e-444c-b25c-f6a18a120b50"
      },
      "execution_count": 210,
      "outputs": [
        {
          "output_type": "stream",
          "name": "stdout",
          "text": [
            "[0 1 2 3 4 5 6 7 8 9]\n",
            "3\n",
            "1\n",
            "9\n",
            "9\n",
            "7\n",
            "0\n"
          ]
        }
      ]
    },
    {
      "cell_type": "code",
      "source": [
        "# 2차원 배열\n",
        "\n",
        "arr = np.array([[1,2,3,4],\n",
        "                [5,6,7,8],\n",
        "                [9,10,11,12]])\n",
        "print(arr, arr.shape, arr.ndim)\n",
        "print(arr[0,3])"
      ],
      "metadata": {
        "colab": {
          "base_uri": "https://localhost:8080/"
        },
        "id": "EzwRSu-bQzQV",
        "outputId": "412a2a84-6a80-4d15-daea-2a7a6e0b80f6"
      },
      "execution_count": 211,
      "outputs": [
        {
          "output_type": "stream",
          "name": "stdout",
          "text": [
            "[[ 1  2  3  4]\n",
            " [ 5  6  7  8]\n",
            " [ 9 10 11 12]] (3, 4) 2\n",
            "4\n"
          ]
        }
      ]
    },
    {
      "cell_type": "code",
      "source": [
        "arr = arr = np.array([0,1,2,3,4,5,6,7,8,9])\n",
        "print(arr[3:8])\n",
        "print(arr[3:])\n",
        "print(arr[:7])\n",
        "print(arr[:])\n",
        "print(arr[:-1])"
      ],
      "metadata": {
        "colab": {
          "base_uri": "https://localhost:8080/"
        },
        "id": "7moyGgccRkWn",
        "outputId": "452d26c6-4380-4321-b8fe-f1e97455790f"
      },
      "execution_count": 212,
      "outputs": [
        {
          "output_type": "stream",
          "name": "stdout",
          "text": [
            "[3 4 5 6 7]\n",
            "[3 4 5 6 7 8 9]\n",
            "[0 1 2 3 4 5 6]\n",
            "[0 1 2 3 4 5 6 7 8 9]\n",
            "[0 1 2 3 4 5 6 7 8]\n"
          ]
        }
      ]
    },
    {
      "cell_type": "code",
      "source": [
        "arr = np.array([[1,2,3,4],\n",
        "                [5,6,7,8],\n",
        "                [9,10,11,12]])\n",
        "print(arr[0,:])\n",
        "print(arr[:, 1])"
      ],
      "metadata": {
        "colab": {
          "base_uri": "https://localhost:8080/"
        },
        "id": "1mtzAEZhRzea",
        "outputId": "a7d47d7a-9f3a-4b4d-ec44-4c1e8ebc00ac"
      },
      "execution_count": 213,
      "outputs": [
        {
          "output_type": "stream",
          "name": "stdout",
          "text": [
            "[1 2 3 4]\n",
            "[ 2  6 10]\n"
          ]
        }
      ]
    },
    {
      "cell_type": "code",
      "source": [
        "print(arr[:3, :])\n",
        "print(arr[:2, 2:])"
      ],
      "metadata": {
        "colab": {
          "base_uri": "https://localhost:8080/"
        },
        "id": "W86_ak0rSFUk",
        "outputId": "bd71bea7-ea66-4a8d-dbc2-2eb1720f3fa3"
      },
      "execution_count": 214,
      "outputs": [
        {
          "output_type": "stream",
          "name": "stdout",
          "text": [
            "[[ 1  2  3  4]\n",
            " [ 5  6  7  8]\n",
            " [ 9 10 11 12]]\n",
            "[[3 4]\n",
            " [7 8]]\n"
          ]
        }
      ]
    },
    {
      "cell_type": "markdown",
      "source": [
        "## 2-2. 배열의 Fancy 인덱싱"
      ],
      "metadata": {
        "id": "JIMacklUSVgn"
      }
    },
    {
      "cell_type": "code",
      "source": [
        "# 1차원 배열\n",
        "arr = np.array([5,10,15,20,25,30])\n",
        "print(arr[[0,2,4]]) # 0번째, 2번째, 4번째"
      ],
      "metadata": {
        "colab": {
          "base_uri": "https://localhost:8080/"
        },
        "id": "HqQmEV3CSTZa",
        "outputId": "74a2783e-3b9a-418b-8fe1-63e311ff8883"
      },
      "execution_count": 215,
      "outputs": [
        {
          "output_type": "stream",
          "name": "stdout",
          "text": [
            "[ 5 15 25]\n"
          ]
        }
      ]
    },
    {
      "cell_type": "code",
      "source": [
        "# 2차원 배열\n",
        "arr = np.array([[5,10,15,20],\n",
        "                [25,30,35,40],\n",
        "                [45,50,55,60]])\n",
        "print(arr[[0,2], 2:]) # 0행, 2행\n",
        "print(arr[1:, [2,3]]) # 2열, 3열"
      ],
      "metadata": {
        "colab": {
          "base_uri": "https://localhost:8080/"
        },
        "id": "2KoLqiuuTjKu",
        "outputId": "8fc8f067-646e-4cb1-99e8-0aea90c20b2a"
      },
      "execution_count": 216,
      "outputs": [
        {
          "output_type": "stream",
          "name": "stdout",
          "text": [
            "[[15 20]\n",
            " [55 60]]\n",
            "[[35 40]\n",
            " [55 60]]\n"
          ]
        }
      ]
    },
    {
      "cell_type": "markdown",
      "source": [
        "## 2-3. Boolean 인덱싱"
      ],
      "metadata": {
        "id": "YDoodDj9VI13"
      }
    },
    {
      "cell_type": "code",
      "source": [
        "arr = np.array([1,2,3,4])\n",
        "print(arr[[True,False,True,True]])\n",
        "\n",
        "arr = np.array([[1,2,3,4],\n",
        "                [5,6,7,8]])\n",
        "print(arr[[True,False],True])"
      ],
      "metadata": {
        "colab": {
          "base_uri": "https://localhost:8080/"
        },
        "id": "djalL8UMVNac",
        "outputId": "8b5fdb29-1b32-43f3-ce16-bf02170de492"
      },
      "execution_count": 217,
      "outputs": [
        {
          "output_type": "stream",
          "name": "stdout",
          "text": [
            "[1 3 4]\n",
            "[[1 2 3 4]]\n"
          ]
        }
      ]
    },
    {
      "cell_type": "code",
      "source": [
        "print(arr[arr>3])\n",
        "print(arr[arr<=2])"
      ],
      "metadata": {
        "colab": {
          "base_uri": "https://localhost:8080/"
        },
        "id": "1pTMWHlJWQXQ",
        "outputId": "53185763-d8b1-42d4-d473-9d932f055121"
      },
      "execution_count": 218,
      "outputs": [
        {
          "output_type": "stream",
          "name": "stdout",
          "text": [
            "[4 5 6 7 8]\n",
            "[1 2]\n"
          ]
        }
      ]
    },
    {
      "cell_type": "markdown",
      "source": [
        "# Section 4 - N차원 배열 연산법"
      ],
      "metadata": {
        "id": "2ZxP6rxKWdAj"
      }
    },
    {
      "cell_type": "markdown",
      "source": [
        "## 3-1. 배열의 연산 1: 사칙연산/제곱/제곱근/몫/나머지"
      ],
      "metadata": {
        "id": "lvbc9ytGWgf0"
      }
    },
    {
      "cell_type": "markdown",
      "source": [
        "배열을 연산하려면 shape이 같아야 한다.\n",
        "\n",
        "shape이 다른 배열들끼리 연산하게 해주는 broadcasting 기능이 있다."
      ],
      "metadata": {
        "id": "EyyCH-9ydLwB"
      }
    },
    {
      "cell_type": "code",
      "source": [
        "arr1 = np.array([[1,2,3,],\n",
        "                 [4,5,6],\n",
        "                 [7,8,9]])\n",
        "arr2 = np.array([[2,2,2,],\n",
        "                 [2,2,2,],\n",
        "                 [2,2,2,]])\n",
        "print(arr1)\n",
        "print(arr2)"
      ],
      "metadata": {
        "colab": {
          "base_uri": "https://localhost:8080/"
        },
        "id": "N9XpcXs0Wjhs",
        "outputId": "09e9d825-9f3b-4c8f-dc08-6884d784f7a6"
      },
      "execution_count": 219,
      "outputs": [
        {
          "output_type": "stream",
          "name": "stdout",
          "text": [
            "[[1 2 3]\n",
            " [4 5 6]\n",
            " [7 8 9]]\n",
            "[[2 2 2]\n",
            " [2 2 2]\n",
            " [2 2 2]]\n"
          ]
        }
      ]
    },
    {
      "cell_type": "code",
      "source": [
        "# 덧셈\n",
        "print(arr1+arr2)\n",
        "print(np.add(arr1, arr2))"
      ],
      "metadata": {
        "colab": {
          "base_uri": "https://localhost:8080/"
        },
        "id": "8EnHq8A_eR5T",
        "outputId": "b0a4c9e6-527d-4614-868e-4ac9100644e3"
      },
      "execution_count": 220,
      "outputs": [
        {
          "output_type": "stream",
          "name": "stdout",
          "text": [
            "[[ 3  4  5]\n",
            " [ 6  7  8]\n",
            " [ 9 10 11]]\n",
            "[[ 3  4  5]\n",
            " [ 6  7  8]\n",
            " [ 9 10 11]]\n"
          ]
        }
      ]
    },
    {
      "cell_type": "code",
      "source": [
        "# 뺄셈\n",
        "print(arr1-arr2)\n",
        "print(np.subtract(arr1, arr2))"
      ],
      "metadata": {
        "colab": {
          "base_uri": "https://localhost:8080/"
        },
        "id": "0n2OZNUPeWUF",
        "outputId": "098bde79-3b63-4979-8288-c9eb1ce8376e"
      },
      "execution_count": 221,
      "outputs": [
        {
          "output_type": "stream",
          "name": "stdout",
          "text": [
            "[[-1  0  1]\n",
            " [ 2  3  4]\n",
            " [ 5  6  7]]\n",
            "[[-1  0  1]\n",
            " [ 2  3  4]\n",
            " [ 5  6  7]]\n"
          ]
        }
      ]
    },
    {
      "cell_type": "code",
      "source": [
        "# 곱셈 (단지 원소끼리의 곱셈, 내적이 아님)\n",
        "print(arr1*arr2)\n",
        "print(np.multiply(arr1, arr2))"
      ],
      "metadata": {
        "colab": {
          "base_uri": "https://localhost:8080/"
        },
        "id": "6lks_vYRebDC",
        "outputId": "1db8bdf3-dc30-4ab2-ff74-7e827456963a"
      },
      "execution_count": 222,
      "outputs": [
        {
          "output_type": "stream",
          "name": "stdout",
          "text": [
            "[[ 2  4  6]\n",
            " [ 8 10 12]\n",
            " [14 16 18]]\n",
            "[[ 2  4  6]\n",
            " [ 8 10 12]\n",
            " [14 16 18]]\n"
          ]
        }
      ]
    },
    {
      "cell_type": "code",
      "source": [
        "# 나눗셈\n",
        "print(arr1/arr2)\n",
        "print(np.divide(arr1, arr2))"
      ],
      "metadata": {
        "colab": {
          "base_uri": "https://localhost:8080/"
        },
        "id": "-W6K0sWqepvU",
        "outputId": "ba536dc1-9878-4b8f-b8d7-e44da29e2535"
      },
      "execution_count": 223,
      "outputs": [
        {
          "output_type": "stream",
          "name": "stdout",
          "text": [
            "[[0.5 1.  1.5]\n",
            " [2.  2.5 3. ]\n",
            " [3.5 4.  4.5]]\n",
            "[[0.5 1.  1.5]\n",
            " [2.  2.5 3. ]\n",
            " [3.5 4.  4.5]]\n"
          ]
        }
      ]
    },
    {
      "cell_type": "code",
      "source": [
        "# 제곱\n",
        "arr1 = np.array([[1,2,3,],\n",
        "                 [4,5,6],\n",
        "                 [7,8,9]])\n",
        "arr2 = np.array([[2,2,2,],\n",
        "                 [2,2,2,],\n",
        "                 [2,2,2,]])\n",
        "print(arr1 ** 2)\n",
        "print(arr2 ** 5)\n",
        "print(np.square(arr1))"
      ],
      "metadata": {
        "colab": {
          "base_uri": "https://localhost:8080/"
        },
        "id": "i0pp73Ioew4D",
        "outputId": "bccab094-ab8c-4be5-8ab4-6fdc48ff86a4"
      },
      "execution_count": 224,
      "outputs": [
        {
          "output_type": "stream",
          "name": "stdout",
          "text": [
            "[[ 1  4  9]\n",
            " [16 25 36]\n",
            " [49 64 81]]\n",
            "[[32 32 32]\n",
            " [32 32 32]\n",
            " [32 32 32]]\n",
            "[[ 1  4  9]\n",
            " [16 25 36]\n",
            " [49 64 81]]\n"
          ]
        }
      ]
    },
    {
      "cell_type": "code",
      "source": [
        "# 제곱근\n",
        "print(np.sqrt(arr1))"
      ],
      "metadata": {
        "colab": {
          "base_uri": "https://localhost:8080/"
        },
        "id": "5SIWJ4A2e_2S",
        "outputId": "a8506426-f180-4159-b84e-ba54a0b69e75"
      },
      "execution_count": 225,
      "outputs": [
        {
          "output_type": "stream",
          "name": "stdout",
          "text": [
            "[[1.         1.41421356 1.73205081]\n",
            " [2.         2.23606798 2.44948974]\n",
            " [2.64575131 2.82842712 3.        ]]\n"
          ]
        }
      ]
    },
    {
      "cell_type": "code",
      "source": [
        "# 몫\n",
        "print(arr1//2)\n",
        "\n",
        "#나머지\n",
        "print(arr1 % 2)"
      ],
      "metadata": {
        "colab": {
          "base_uri": "https://localhost:8080/"
        },
        "id": "DenL4esqfJH_",
        "outputId": "bd3db8eb-a1e1-46fa-f716-3bed38ebcd03"
      },
      "execution_count": 226,
      "outputs": [
        {
          "output_type": "stream",
          "name": "stdout",
          "text": [
            "[[0 1 1]\n",
            " [2 2 3]\n",
            " [3 4 4]]\n",
            "[[1 0 1]\n",
            " [0 1 0]\n",
            " [1 0 1]]\n"
          ]
        }
      ]
    },
    {
      "cell_type": "markdown",
      "source": [
        "## 3-2. 배열의 연산 2: 내적(dot product)/절댓값/올림/내림/반올림/버림"
      ],
      "metadata": {
        "id": "E7FAwlFHfRmy"
      }
    },
    {
      "cell_type": "code",
      "source": [
        "# 1차원 행렬\n",
        "arr1 = np.array([2,3,4])\n",
        "arr2 = np.array([1,2,3])\n",
        "\n",
        "print(np.dot(arr1, arr2)) # 2+6+12"
      ],
      "metadata": {
        "colab": {
          "base_uri": "https://localhost:8080/"
        },
        "id": "7Kx9eKeGfLQw",
        "outputId": "89d5eb66-95b1-4873-839b-d2ee8ff474c8"
      },
      "execution_count": 227,
      "outputs": [
        {
          "output_type": "stream",
          "name": "stdout",
          "text": [
            "20\n"
          ]
        }
      ]
    },
    {
      "cell_type": "code",
      "source": [
        "# 2차원 행렬\n",
        "\n",
        "arr1 = np.array([[1,2],\n",
        "                [4,5]])\n",
        "arr2 = np.array([[1,2],\n",
        "                [0,3]])\n",
        "print(np.dot(arr1, arr2))"
      ],
      "metadata": {
        "colab": {
          "base_uri": "https://localhost:8080/"
        },
        "id": "DINXX48-fp46",
        "outputId": "8c825d82-2f8d-4a9f-d841-d2b267757f44"
      },
      "execution_count": 228,
      "outputs": [
        {
          "output_type": "stream",
          "name": "stdout",
          "text": [
            "[[ 1  8]\n",
            " [ 4 23]]\n"
          ]
        }
      ]
    },
    {
      "cell_type": "code",
      "source": [
        "arr1 = np.array([[1.932, -2.339],\n",
        "                 [-4.145, 5.206]])\n",
        "# 올림\n",
        "print(np.ceil(arr1))\n",
        "\n",
        "# 내림\n",
        "print(np.floor(arr1))\n",
        "\n",
        "# 반올림\n",
        "print(np.round(arr1))\n",
        "\n",
        "# 버림\n",
        "print(np.trunc(arr1))"
      ],
      "metadata": {
        "colab": {
          "base_uri": "https://localhost:8080/"
        },
        "id": "m4xZLI5GjdPD",
        "outputId": "afa66bca-7a6b-47b5-8a5c-de3f917f5409"
      },
      "execution_count": 229,
      "outputs": [
        {
          "output_type": "stream",
          "name": "stdout",
          "text": [
            "[[ 2. -2.]\n",
            " [-4.  6.]]\n",
            "[[ 1. -3.]\n",
            " [-5.  5.]]\n",
            "[[ 2. -2.]\n",
            " [-4.  5.]]\n",
            "[[ 1. -2.]\n",
            " [-4.  5.]]\n"
          ]
        }
      ]
    },
    {
      "cell_type": "markdown",
      "source": [
        "## 3-3. 배열의 연산 3: min/max/sum/mean/std/cumsum/median"
      ],
      "metadata": {
        "id": "DpvNVCRIj8HN"
      }
    },
    {
      "cell_type": "code",
      "source": [
        "arr = np.array([[1,2,3],\n",
        "                [0,1,4]])"
      ],
      "metadata": {
        "id": "1FOLlN93kKX_"
      },
      "execution_count": 230,
      "outputs": []
    },
    {
      "cell_type": "code",
      "source": [
        "# min()\n",
        "print(np.min(arr))\n",
        "print(arr.min())\n",
        "print(arr.min(axis=0))  # 열 min\n",
        "print(arr.min(axis=1))  # 행 min"
      ],
      "metadata": {
        "colab": {
          "base_uri": "https://localhost:8080/"
        },
        "id": "bCcLRL-9j4YS",
        "outputId": "75abda3d-6659-4c40-e677-53194717c86c"
      },
      "execution_count": 231,
      "outputs": [
        {
          "output_type": "stream",
          "name": "stdout",
          "text": [
            "0\n",
            "0\n",
            "[0 1 3]\n",
            "[1 0]\n"
          ]
        }
      ]
    },
    {
      "cell_type": "code",
      "source": [
        "# max()\n",
        "print(np.max(arr))\n",
        "print(arr.max())\n",
        "print(arr.max(axis=0))\n",
        "print(arr.max(axis=1))"
      ],
      "metadata": {
        "colab": {
          "base_uri": "https://localhost:8080/"
        },
        "id": "G-PGO4yTlK19",
        "outputId": "8643903b-55f2-4fd9-f692-d869aec91aca"
      },
      "execution_count": 232,
      "outputs": [
        {
          "output_type": "stream",
          "name": "stdout",
          "text": [
            "4\n",
            "4\n",
            "[1 2 4]\n",
            "[3 4]\n"
          ]
        }
      ]
    },
    {
      "cell_type": "code",
      "source": [
        "# sum()\n",
        "print(np.sum(arr))\n",
        "print(arr.sum())\n",
        "print(arr.sum(axis=0))\n",
        "print(arr.sum(axis=1))"
      ],
      "metadata": {
        "colab": {
          "base_uri": "https://localhost:8080/"
        },
        "id": "ASuVSPHQqsBS",
        "outputId": "6ee245ba-5332-485c-f608-8ca66dc2999c"
      },
      "execution_count": 233,
      "outputs": [
        {
          "output_type": "stream",
          "name": "stdout",
          "text": [
            "11\n",
            "11\n",
            "[1 3 7]\n",
            "[6 5]\n"
          ]
        }
      ]
    },
    {
      "cell_type": "code",
      "source": [
        "# mean()\n",
        "print(np.mean(arr))     # 11/6\n",
        "print(arr.mean(axis=0))\n",
        "print(arr.mean(axis=1))"
      ],
      "metadata": {
        "colab": {
          "base_uri": "https://localhost:8080/"
        },
        "id": "BkEBOpLSrF2l",
        "outputId": "6af659bb-f9ee-4a3e-cb6f-f563cb81702e"
      },
      "execution_count": 234,
      "outputs": [
        {
          "output_type": "stream",
          "name": "stdout",
          "text": [
            "1.8333333333333333\n",
            "[0.5 1.5 3.5]\n",
            "[2.         1.66666667]\n"
          ]
        }
      ]
    },
    {
      "cell_type": "code",
      "source": [
        "# std() 표준편차\n",
        "print(np.std(arr))\n",
        "print(arr.std(axis=0))\n",
        "print(arr.std(axis=1))"
      ],
      "metadata": {
        "colab": {
          "base_uri": "https://localhost:8080/"
        },
        "id": "VxIY5LtQrgED",
        "outputId": "10528683-f66c-4c67-c1da-9ec6c05e7449"
      },
      "execution_count": 235,
      "outputs": [
        {
          "output_type": "stream",
          "name": "stdout",
          "text": [
            "1.343709624716425\n",
            "[0.5 0.5 0.5]\n",
            "[0.81649658 1.69967317]\n"
          ]
        }
      ]
    },
    {
      "cell_type": "markdown",
      "source": [
        "첫 번째 열의 표준 편차:\n",
        "\n",
        "평균: (1 + 0) / 2 = 0.5\n",
        "분산: ((1 - 0.5)^2 + (0 - 0.5)^2) / 2 = 0.25\n",
        "표준 편차: sqrt(0.25) = 0.5\n",
        "두 번째 열의 표준 편차:\n",
        "\n",
        "평균: (2 + 1) / 2 = 1.5\n",
        "분산: ((2 - 1.5)^2 + (1 - 1.5)^2) / 2 = 0.25\n",
        "표준 편차: sqrt(0.25) = 0.5\n",
        "세 번째 열의 표준 편차:\n",
        "\n",
        "평균: (3 + 4) / 2 = 3.5\n",
        "분산: ((3 - 3.5)^2 + (4 - 3.5)^2) / 2 = 0.25\n",
        "표준 편차: sqrt(0.25) = 0.5\n",
        "첫 번째 행의 표준 편차:\n",
        "\n",
        "평균: (1 + 2 + 3) / 3 = 2\n",
        "분산: ((1 - 2)^2 + (2 - 2)^2 + (3 - 2)^2) / 3 = 2/3\n",
        "표준 편차: sqrt(2/3) ≈ 0.81649658\n",
        "두 번째 행의 표준 편차:\n",
        "\n",
        "평균: (0 + 1 + 4) / 3 = 5/3\n",
        "분산: ((0 - 5/3)^2 + (1 - 5/3)^2 + (4 - 5/3)^2) / 3 ≈ 2.88888889\n",
        "표준 편차: sqrt(2.88888889) ≈ 1.69967317"
      ],
      "metadata": {
        "id": "UVdiV40EthJx"
      }
    },
    {
      "cell_type": "code",
      "source": [
        "# cumsum()\n",
        "print(np.cumsum(arr))\n",
        "print(arr.cumsum())\n",
        "print(arr.cumsum(axis=0))\n",
        "print(arr.cumsum(axis=1))"
      ],
      "metadata": {
        "colab": {
          "base_uri": "https://localhost:8080/"
        },
        "id": "oLldceBxtvWf",
        "outputId": "d4a88314-4d6a-4d6e-9f9d-c3fd4b027d3f"
      },
      "execution_count": 237,
      "outputs": [
        {
          "output_type": "stream",
          "name": "stdout",
          "text": [
            "[ 1  3  6  6  7 11]\n",
            "[ 1  3  6  6  7 11]\n",
            "[[1 2 3]\n",
            " [1 3 7]]\n",
            "[[1 3 6]\n",
            " [0 1 5]]\n"
          ]
        }
      ]
    },
    {
      "cell_type": "markdown",
      "source": [
        "[[1,2,3], [0,1,4]] => [[1,2,3], [1+0, 2+1, 3+4]]\n",
        "\n",
        "[[1,2,3], [0,1,4]] => [[1, 1+2, 1+2+3], [0, 0+1, 0+1+4]]"
      ],
      "metadata": {
        "id": "LOznm0UduU_F"
      }
    },
    {
      "cell_type": "code",
      "source": [
        "# median\n",
        "# 정렬을 했을 때 가장 중앙에 있는 값을 반환\n",
        "\n",
        "arr = np.array([[1,2,3],\n",
        "                [0,1,4],\n",
        "                [1,5,2]])\n",
        "\n",
        "print(np.median(arr, axis=0))\n",
        "# (0,1,1) 중 1, (1,2,5) 중 2, (2,3,4)중 3\n",
        "\n",
        "print(np.median(arr, axis=1))\n",
        "# (1,2,3) 중 2, (0,1,4) 중 1, (1,5,2) 중 2"
      ],
      "metadata": {
        "colab": {
          "base_uri": "https://localhost:8080/"
        },
        "id": "DyMhQTGZG3k-",
        "outputId": "6deaf850-d43b-4cff-acfe-ac71b1bc70e4"
      },
      "execution_count": 243,
      "outputs": [
        {
          "output_type": "stream",
          "name": "stdout",
          "text": [
            "[1. 2. 3.]\n",
            "[2. 1. 2.]\n"
          ]
        }
      ]
    },
    {
      "cell_type": "markdown",
      "source": [
        "## 3-4. 배열의 연산 4: 비교 연산/삼각함수"
      ],
      "metadata": {
        "id": "8o1S-f9xHt_y"
      }
    },
    {
      "cell_type": "code",
      "source": [
        "# 비교 연산의 결과는 Boolean 값\n",
        "arr1 = np.array([[1,2,3],\n",
        "                 [4,5,6]])\n",
        "arr2 = np.array([[1,0,3],\n",
        "                 [4,-2,9]])\n",
        "\n",
        "print(arr1 == arr2)\n",
        "print(arr1 > arr2)\n",
        "print(np.array_equal(arr1, arr2))   # 배열이 완전히 같은가?"
      ],
      "metadata": {
        "colab": {
          "base_uri": "https://localhost:8080/"
        },
        "id": "72U8Ofp9Hq8Y",
        "outputId": "b4ad4f7f-f179-4876-febf-cb36f4f0b502"
      },
      "execution_count": 246,
      "outputs": [
        {
          "output_type": "stream",
          "name": "stdout",
          "text": [
            "[[ True False  True]\n",
            " [ True False False]]\n",
            "[[False  True False]\n",
            " [False  True False]]\n",
            "False\n"
          ]
        }
      ]
    },
    {
      "cell_type": "code",
      "source": [
        "# 삼각 함수\n",
        "arr = np.array([[1,2,3],[4,5,6]])\n",
        "\n",
        "# sin()\n",
        "print(np.sin(arr))\n",
        "# cos()\n",
        "print(np.cos(arr))\n",
        "#tan()\n",
        "print(np.tan(arr))\n",
        "# pi\n",
        "print(np.pi)"
      ],
      "metadata": {
        "colab": {
          "base_uri": "https://localhost:8080/"
        },
        "id": "p494B5mrIPg3",
        "outputId": "64989ab1-4d48-48f4-d2df-529dade09b1d"
      },
      "execution_count": 247,
      "outputs": [
        {
          "output_type": "stream",
          "name": "stdout",
          "text": [
            "[[ 0.84147098  0.90929743  0.14112001]\n",
            " [-0.7568025  -0.95892427 -0.2794155 ]]\n",
            "[[ 0.54030231 -0.41614684 -0.9899925 ]\n",
            " [-0.65364362  0.28366219  0.96017029]]\n",
            "[[ 1.55740772 -2.18503986 -0.14254654]\n",
            " [ 1.15782128 -3.38051501 -0.29100619]]\n",
            "3.141592653589793\n"
          ]
        }
      ]
    },
    {
      "cell_type": "code",
      "source": [
        "!git commit -m \"Section 4\""
      ],
      "metadata": {
        "colab": {
          "base_uri": "https://localhost:8080/"
        },
        "id": "cq3xxqXkIw9Z",
        "outputId": "61716ed1-54ff-46e1-af44-faa548713f73"
      },
      "execution_count": 250,
      "outputs": [
        {
          "output_type": "stream",
          "name": "stdout",
          "text": [
            "fatal: not a git repository (or any of the parent directories): .git\n"
          ]
        }
      ]
    }
  ]
}